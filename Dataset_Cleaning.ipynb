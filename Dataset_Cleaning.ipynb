{
  "nbformat": 4,
  "nbformat_minor": 0,
  "metadata": {
    "colab": {
      "provenance": []
    },
    "kernelspec": {
      "name": "python3",
      "display_name": "Python 3"
    },
    "language_info": {
      "name": "python"
    }
  },
  "cells": [
    {
      "cell_type": "code",
      "execution_count": null,
      "metadata": {
        "id": "XIlS13sbCLYp"
      },
      "outputs": [],
      "source": [
        "import pandas as pd"
      ]
    },
    {
      "cell_type": "code",
      "source": [
        "df2020 = pd.read_csv(\"/content/Employee 2020.csv\")\n",
        "df2020"
      ],
      "metadata": {
        "colab": {
          "base_uri": "https://localhost:8080/",
          "height": 636
        },
        "id": "-wz_ll-DDuRi",
        "outputId": "c3a8fe06-1d6d-496d-f836-30b5cba03fbe"
      },
      "execution_count": null,
      "outputs": [
        {
          "output_type": "stream",
          "name": "stderr",
          "text": [
            "<ipython-input-4-a7e244c3d8e6>:1: DtypeWarning: Columns (0,2,3,4,5,7,8,11,14,15,16,17,19,21) have mixed types. Specify dtype option on import or set low_memory=False.\n",
            "  df2020 = pd.read_csv(\"/content/Employee 2020.csv\")\n"
          ]
        },
        {
          "output_type": "execute_result",
          "data": {
            "text/plain": [
              "          Timestamp   Age Gender    City           Position   \\\n",
              "0        11/24/2020  26.0   Male  Munich   Software Engineer   \n",
              "1        11/24/2020  26.0   Male  Berlin   Backend Developer   \n",
              "2        11/24/2020  29.0   Male  Berlin   Software Engineer   \n",
              "3        11/24/2020  28.0   Male  Berlin  Frontend Developer   \n",
              "4        11/24/2020  37.0   Male  Berlin   Backend Developer   \n",
              "...             ...   ...    ...     ...                 ...   \n",
              "1048569         NaN   NaN    NaN     NaN                 NaN   \n",
              "1048570         NaN   NaN    NaN     NaN                 NaN   \n",
              "1048571         NaN   NaN    NaN     NaN                 NaN   \n",
              "1048572         NaN   NaN    NaN     NaN                 NaN   \n",
              "1048573         NaN   NaN    NaN     NaN                 NaN   \n",
              "\n",
              "        Total years of experience  Unnamed: 6 Seniority level  \\\n",
              "0                               5         NaN          Senior   \n",
              "1                               7         NaN          Senior   \n",
              "2                              12         NaN            Lead   \n",
              "3                               4         NaN          Junior   \n",
              "4                              17         NaN          Senior   \n",
              "...                           ...         ...             ...   \n",
              "1048569                       NaN         NaN             NaN   \n",
              "1048570                       NaN         NaN             NaN   \n",
              "1048571                       NaN         NaN             NaN   \n",
              "1048572                       NaN         NaN             NaN   \n",
              "1048573                       NaN         NaN             NaN   \n",
              "\n",
              "                 main technology  Unnamed: 9  ...  Unnamed: 12 Unnamed: 13  \\\n",
              "0                     TypeScript         NaN  ...          NaN         NaN   \n",
              "1                           Ruby         NaN  ...          NaN         NaN   \n",
              "2        Javascript / Typescript         NaN  ...          NaN         NaN   \n",
              "3                     Javascript         NaN  ...          NaN         NaN   \n",
              "4                        C# .NET         NaN  ...          NaN         NaN   \n",
              "...                          ...         ...  ...          ...         ...   \n",
              "1048569                      NaN         NaN  ...          NaN         NaN   \n",
              "1048570                      NaN         NaN  ...          NaN         NaN   \n",
              "1048571                      NaN         NaN  ...          NaN         NaN   \n",
              "1048572                      NaN         NaN  ...          NaN         NaN   \n",
              "1048573                      NaN         NaN  ...          NaN         NaN   \n",
              "\n",
              "         Number of vacation days           Employment status  \\\n",
              "0                             30          Full-time employee   \n",
              "1                             28          Full-time employee   \n",
              "2                             30  Self-employed (freelancer)   \n",
              "3                             24          Full-time employee   \n",
              "4                             29          Full-time employee   \n",
              "...                          ...                         ...   \n",
              "1048569                      NaN                         NaN   \n",
              "1048570                      NaN                         NaN   \n",
              "1048571                      NaN                         NaN   \n",
              "1048572                      NaN                         NaN   \n",
              "1048573                      NaN                         NaN   \n",
              "\n",
              "          Contract duration Main language at work Unnamed: 18 Company type  \\\n",
              "0        Unlimited contract               English         NaN      Product   \n",
              "1        Unlimited contract               English         NaN      Product   \n",
              "2        Temporary contract               English         NaN      Product   \n",
              "3        Unlimited contract               English         NaN      Startup   \n",
              "4        Unlimited contract               English         NaN      Product   \n",
              "...                     ...                   ...         ...          ...   \n",
              "1048569                 NaN                   NaN         NaN          NaN   \n",
              "1048570                 NaN                   NaN         NaN          NaN   \n",
              "1048571                 NaN                   NaN         NaN          NaN   \n",
              "1048572                 NaN                   NaN         NaN          NaN   \n",
              "1048573                 NaN                   NaN         NaN          NaN   \n",
              "\n",
              "         Unnamed: 20 Company business sector  \n",
              "0                NaN                 Tourism  \n",
              "1                NaN   Scientific Activities  \n",
              "2                NaN                     NaN  \n",
              "3                NaN               Transport  \n",
              "4                NaN              Automotive  \n",
              "...              ...                     ...  \n",
              "1048569          NaN                     NaN  \n",
              "1048570          NaN                     NaN  \n",
              "1048571          NaN                     NaN  \n",
              "1048572          NaN                     NaN  \n",
              "1048573          NaN                     NaN  \n",
              "\n",
              "[1048574 rows x 22 columns]"
            ],
            "text/html": [
              "\n",
              "  <div id=\"df-56e893c9-a6a0-47c1-8b88-451855a5ae82\" class=\"colab-df-container\">\n",
              "    <div>\n",
              "<style scoped>\n",
              "    .dataframe tbody tr th:only-of-type {\n",
              "        vertical-align: middle;\n",
              "    }\n",
              "\n",
              "    .dataframe tbody tr th {\n",
              "        vertical-align: top;\n",
              "    }\n",
              "\n",
              "    .dataframe thead th {\n",
              "        text-align: right;\n",
              "    }\n",
              "</style>\n",
              "<table border=\"1\" class=\"dataframe\">\n",
              "  <thead>\n",
              "    <tr style=\"text-align: right;\">\n",
              "      <th></th>\n",
              "      <th>Timestamp</th>\n",
              "      <th>Age</th>\n",
              "      <th>Gender</th>\n",
              "      <th>City</th>\n",
              "      <th>Position</th>\n",
              "      <th>Total years of experience</th>\n",
              "      <th>Unnamed: 6</th>\n",
              "      <th>Seniority level</th>\n",
              "      <th>main technology</th>\n",
              "      <th>Unnamed: 9</th>\n",
              "      <th>...</th>\n",
              "      <th>Unnamed: 12</th>\n",
              "      <th>Unnamed: 13</th>\n",
              "      <th>Number of vacation days</th>\n",
              "      <th>Employment status</th>\n",
              "      <th>Contract duration</th>\n",
              "      <th>Main language at work</th>\n",
              "      <th>Unnamed: 18</th>\n",
              "      <th>Company type</th>\n",
              "      <th>Unnamed: 20</th>\n",
              "      <th>Company business sector</th>\n",
              "    </tr>\n",
              "  </thead>\n",
              "  <tbody>\n",
              "    <tr>\n",
              "      <th>0</th>\n",
              "      <td>11/24/2020</td>\n",
              "      <td>26.0</td>\n",
              "      <td>Male</td>\n",
              "      <td>Munich</td>\n",
              "      <td>Software Engineer</td>\n",
              "      <td>5</td>\n",
              "      <td>NaN</td>\n",
              "      <td>Senior</td>\n",
              "      <td>TypeScript</td>\n",
              "      <td>NaN</td>\n",
              "      <td>...</td>\n",
              "      <td>NaN</td>\n",
              "      <td>NaN</td>\n",
              "      <td>30</td>\n",
              "      <td>Full-time employee</td>\n",
              "      <td>Unlimited contract</td>\n",
              "      <td>English</td>\n",
              "      <td>NaN</td>\n",
              "      <td>Product</td>\n",
              "      <td>NaN</td>\n",
              "      <td>Tourism</td>\n",
              "    </tr>\n",
              "    <tr>\n",
              "      <th>1</th>\n",
              "      <td>11/24/2020</td>\n",
              "      <td>26.0</td>\n",
              "      <td>Male</td>\n",
              "      <td>Berlin</td>\n",
              "      <td>Backend Developer</td>\n",
              "      <td>7</td>\n",
              "      <td>NaN</td>\n",
              "      <td>Senior</td>\n",
              "      <td>Ruby</td>\n",
              "      <td>NaN</td>\n",
              "      <td>...</td>\n",
              "      <td>NaN</td>\n",
              "      <td>NaN</td>\n",
              "      <td>28</td>\n",
              "      <td>Full-time employee</td>\n",
              "      <td>Unlimited contract</td>\n",
              "      <td>English</td>\n",
              "      <td>NaN</td>\n",
              "      <td>Product</td>\n",
              "      <td>NaN</td>\n",
              "      <td>Scientific Activities</td>\n",
              "    </tr>\n",
              "    <tr>\n",
              "      <th>2</th>\n",
              "      <td>11/24/2020</td>\n",
              "      <td>29.0</td>\n",
              "      <td>Male</td>\n",
              "      <td>Berlin</td>\n",
              "      <td>Software Engineer</td>\n",
              "      <td>12</td>\n",
              "      <td>NaN</td>\n",
              "      <td>Lead</td>\n",
              "      <td>Javascript / Typescript</td>\n",
              "      <td>NaN</td>\n",
              "      <td>...</td>\n",
              "      <td>NaN</td>\n",
              "      <td>NaN</td>\n",
              "      <td>30</td>\n",
              "      <td>Self-employed (freelancer)</td>\n",
              "      <td>Temporary contract</td>\n",
              "      <td>English</td>\n",
              "      <td>NaN</td>\n",
              "      <td>Product</td>\n",
              "      <td>NaN</td>\n",
              "      <td>NaN</td>\n",
              "    </tr>\n",
              "    <tr>\n",
              "      <th>3</th>\n",
              "      <td>11/24/2020</td>\n",
              "      <td>28.0</td>\n",
              "      <td>Male</td>\n",
              "      <td>Berlin</td>\n",
              "      <td>Frontend Developer</td>\n",
              "      <td>4</td>\n",
              "      <td>NaN</td>\n",
              "      <td>Junior</td>\n",
              "      <td>Javascript</td>\n",
              "      <td>NaN</td>\n",
              "      <td>...</td>\n",
              "      <td>NaN</td>\n",
              "      <td>NaN</td>\n",
              "      <td>24</td>\n",
              "      <td>Full-time employee</td>\n",
              "      <td>Unlimited contract</td>\n",
              "      <td>English</td>\n",
              "      <td>NaN</td>\n",
              "      <td>Startup</td>\n",
              "      <td>NaN</td>\n",
              "      <td>Transport</td>\n",
              "    </tr>\n",
              "    <tr>\n",
              "      <th>4</th>\n",
              "      <td>11/24/2020</td>\n",
              "      <td>37.0</td>\n",
              "      <td>Male</td>\n",
              "      <td>Berlin</td>\n",
              "      <td>Backend Developer</td>\n",
              "      <td>17</td>\n",
              "      <td>NaN</td>\n",
              "      <td>Senior</td>\n",
              "      <td>C# .NET</td>\n",
              "      <td>NaN</td>\n",
              "      <td>...</td>\n",
              "      <td>NaN</td>\n",
              "      <td>NaN</td>\n",
              "      <td>29</td>\n",
              "      <td>Full-time employee</td>\n",
              "      <td>Unlimited contract</td>\n",
              "      <td>English</td>\n",
              "      <td>NaN</td>\n",
              "      <td>Product</td>\n",
              "      <td>NaN</td>\n",
              "      <td>Automotive</td>\n",
              "    </tr>\n",
              "    <tr>\n",
              "      <th>...</th>\n",
              "      <td>...</td>\n",
              "      <td>...</td>\n",
              "      <td>...</td>\n",
              "      <td>...</td>\n",
              "      <td>...</td>\n",
              "      <td>...</td>\n",
              "      <td>...</td>\n",
              "      <td>...</td>\n",
              "      <td>...</td>\n",
              "      <td>...</td>\n",
              "      <td>...</td>\n",
              "      <td>...</td>\n",
              "      <td>...</td>\n",
              "      <td>...</td>\n",
              "      <td>...</td>\n",
              "      <td>...</td>\n",
              "      <td>...</td>\n",
              "      <td>...</td>\n",
              "      <td>...</td>\n",
              "      <td>...</td>\n",
              "      <td>...</td>\n",
              "    </tr>\n",
              "    <tr>\n",
              "      <th>1048569</th>\n",
              "      <td>NaN</td>\n",
              "      <td>NaN</td>\n",
              "      <td>NaN</td>\n",
              "      <td>NaN</td>\n",
              "      <td>NaN</td>\n",
              "      <td>NaN</td>\n",
              "      <td>NaN</td>\n",
              "      <td>NaN</td>\n",
              "      <td>NaN</td>\n",
              "      <td>NaN</td>\n",
              "      <td>...</td>\n",
              "      <td>NaN</td>\n",
              "      <td>NaN</td>\n",
              "      <td>NaN</td>\n",
              "      <td>NaN</td>\n",
              "      <td>NaN</td>\n",
              "      <td>NaN</td>\n",
              "      <td>NaN</td>\n",
              "      <td>NaN</td>\n",
              "      <td>NaN</td>\n",
              "      <td>NaN</td>\n",
              "    </tr>\n",
              "    <tr>\n",
              "      <th>1048570</th>\n",
              "      <td>NaN</td>\n",
              "      <td>NaN</td>\n",
              "      <td>NaN</td>\n",
              "      <td>NaN</td>\n",
              "      <td>NaN</td>\n",
              "      <td>NaN</td>\n",
              "      <td>NaN</td>\n",
              "      <td>NaN</td>\n",
              "      <td>NaN</td>\n",
              "      <td>NaN</td>\n",
              "      <td>...</td>\n",
              "      <td>NaN</td>\n",
              "      <td>NaN</td>\n",
              "      <td>NaN</td>\n",
              "      <td>NaN</td>\n",
              "      <td>NaN</td>\n",
              "      <td>NaN</td>\n",
              "      <td>NaN</td>\n",
              "      <td>NaN</td>\n",
              "      <td>NaN</td>\n",
              "      <td>NaN</td>\n",
              "    </tr>\n",
              "    <tr>\n",
              "      <th>1048571</th>\n",
              "      <td>NaN</td>\n",
              "      <td>NaN</td>\n",
              "      <td>NaN</td>\n",
              "      <td>NaN</td>\n",
              "      <td>NaN</td>\n",
              "      <td>NaN</td>\n",
              "      <td>NaN</td>\n",
              "      <td>NaN</td>\n",
              "      <td>NaN</td>\n",
              "      <td>NaN</td>\n",
              "      <td>...</td>\n",
              "      <td>NaN</td>\n",
              "      <td>NaN</td>\n",
              "      <td>NaN</td>\n",
              "      <td>NaN</td>\n",
              "      <td>NaN</td>\n",
              "      <td>NaN</td>\n",
              "      <td>NaN</td>\n",
              "      <td>NaN</td>\n",
              "      <td>NaN</td>\n",
              "      <td>NaN</td>\n",
              "    </tr>\n",
              "    <tr>\n",
              "      <th>1048572</th>\n",
              "      <td>NaN</td>\n",
              "      <td>NaN</td>\n",
              "      <td>NaN</td>\n",
              "      <td>NaN</td>\n",
              "      <td>NaN</td>\n",
              "      <td>NaN</td>\n",
              "      <td>NaN</td>\n",
              "      <td>NaN</td>\n",
              "      <td>NaN</td>\n",
              "      <td>NaN</td>\n",
              "      <td>...</td>\n",
              "      <td>NaN</td>\n",
              "      <td>NaN</td>\n",
              "      <td>NaN</td>\n",
              "      <td>NaN</td>\n",
              "      <td>NaN</td>\n",
              "      <td>NaN</td>\n",
              "      <td>NaN</td>\n",
              "      <td>NaN</td>\n",
              "      <td>NaN</td>\n",
              "      <td>NaN</td>\n",
              "    </tr>\n",
              "    <tr>\n",
              "      <th>1048573</th>\n",
              "      <td>NaN</td>\n",
              "      <td>NaN</td>\n",
              "      <td>NaN</td>\n",
              "      <td>NaN</td>\n",
              "      <td>NaN</td>\n",
              "      <td>NaN</td>\n",
              "      <td>NaN</td>\n",
              "      <td>NaN</td>\n",
              "      <td>NaN</td>\n",
              "      <td>NaN</td>\n",
              "      <td>...</td>\n",
              "      <td>NaN</td>\n",
              "      <td>NaN</td>\n",
              "      <td>NaN</td>\n",
              "      <td>NaN</td>\n",
              "      <td>NaN</td>\n",
              "      <td>NaN</td>\n",
              "      <td>NaN</td>\n",
              "      <td>NaN</td>\n",
              "      <td>NaN</td>\n",
              "      <td>NaN</td>\n",
              "    </tr>\n",
              "  </tbody>\n",
              "</table>\n",
              "<p>1048574 rows × 22 columns</p>\n",
              "</div>\n",
              "    <div class=\"colab-df-buttons\">\n",
              "\n",
              "  <div class=\"colab-df-container\">\n",
              "    <button class=\"colab-df-convert\" onclick=\"convertToInteractive('df-56e893c9-a6a0-47c1-8b88-451855a5ae82')\"\n",
              "            title=\"Convert this dataframe to an interactive table.\"\n",
              "            style=\"display:none;\">\n",
              "\n",
              "  <svg xmlns=\"http://www.w3.org/2000/svg\" height=\"24px\" viewBox=\"0 -960 960 960\">\n",
              "    <path d=\"M120-120v-720h720v720H120Zm60-500h600v-160H180v160Zm220 220h160v-160H400v160Zm0 220h160v-160H400v160ZM180-400h160v-160H180v160Zm440 0h160v-160H620v160ZM180-180h160v-160H180v160Zm440 0h160v-160H620v160Z\"/>\n",
              "  </svg>\n",
              "    </button>\n",
              "\n",
              "  <style>\n",
              "    .colab-df-container {\n",
              "      display:flex;\n",
              "      gap: 12px;\n",
              "    }\n",
              "\n",
              "    .colab-df-convert {\n",
              "      background-color: #E8F0FE;\n",
              "      border: none;\n",
              "      border-radius: 50%;\n",
              "      cursor: pointer;\n",
              "      display: none;\n",
              "      fill: #1967D2;\n",
              "      height: 32px;\n",
              "      padding: 0 0 0 0;\n",
              "      width: 32px;\n",
              "    }\n",
              "\n",
              "    .colab-df-convert:hover {\n",
              "      background-color: #E2EBFA;\n",
              "      box-shadow: 0px 1px 2px rgba(60, 64, 67, 0.3), 0px 1px 3px 1px rgba(60, 64, 67, 0.15);\n",
              "      fill: #174EA6;\n",
              "    }\n",
              "\n",
              "    .colab-df-buttons div {\n",
              "      margin-bottom: 4px;\n",
              "    }\n",
              "\n",
              "    [theme=dark] .colab-df-convert {\n",
              "      background-color: #3B4455;\n",
              "      fill: #D2E3FC;\n",
              "    }\n",
              "\n",
              "    [theme=dark] .colab-df-convert:hover {\n",
              "      background-color: #434B5C;\n",
              "      box-shadow: 0px 1px 3px 1px rgba(0, 0, 0, 0.15);\n",
              "      filter: drop-shadow(0px 1px 2px rgba(0, 0, 0, 0.3));\n",
              "      fill: #FFFFFF;\n",
              "    }\n",
              "  </style>\n",
              "\n",
              "    <script>\n",
              "      const buttonEl =\n",
              "        document.querySelector('#df-56e893c9-a6a0-47c1-8b88-451855a5ae82 button.colab-df-convert');\n",
              "      buttonEl.style.display =\n",
              "        google.colab.kernel.accessAllowed ? 'block' : 'none';\n",
              "\n",
              "      async function convertToInteractive(key) {\n",
              "        const element = document.querySelector('#df-56e893c9-a6a0-47c1-8b88-451855a5ae82');\n",
              "        const dataTable =\n",
              "          await google.colab.kernel.invokeFunction('convertToInteractive',\n",
              "                                                    [key], {});\n",
              "        if (!dataTable) return;\n",
              "\n",
              "        const docLinkHtml = 'Like what you see? Visit the ' +\n",
              "          '<a target=\"_blank\" href=https://colab.research.google.com/notebooks/data_table.ipynb>data table notebook</a>'\n",
              "          + ' to learn more about interactive tables.';\n",
              "        element.innerHTML = '';\n",
              "        dataTable['output_type'] = 'display_data';\n",
              "        await google.colab.output.renderOutput(dataTable, element);\n",
              "        const docLink = document.createElement('div');\n",
              "        docLink.innerHTML = docLinkHtml;\n",
              "        element.appendChild(docLink);\n",
              "      }\n",
              "    </script>\n",
              "  </div>\n",
              "\n",
              "\n",
              "    <div id=\"df-9a9bdcd9-9339-4e3a-b8c4-bc97add4eef2\">\n",
              "      <button class=\"colab-df-quickchart\" onclick=\"quickchart('df-9a9bdcd9-9339-4e3a-b8c4-bc97add4eef2')\"\n",
              "                title=\"Suggest charts\"\n",
              "                style=\"display:none;\">\n",
              "\n",
              "<svg xmlns=\"http://www.w3.org/2000/svg\" height=\"24px\"viewBox=\"0 0 24 24\"\n",
              "     width=\"24px\">\n",
              "    <g>\n",
              "        <path d=\"M19 3H5c-1.1 0-2 .9-2 2v14c0 1.1.9 2 2 2h14c1.1 0 2-.9 2-2V5c0-1.1-.9-2-2-2zM9 17H7v-7h2v7zm4 0h-2V7h2v10zm4 0h-2v-4h2v4z\"/>\n",
              "    </g>\n",
              "</svg>\n",
              "      </button>\n",
              "\n",
              "<style>\n",
              "  .colab-df-quickchart {\n",
              "      --bg-color: #E8F0FE;\n",
              "      --fill-color: #1967D2;\n",
              "      --hover-bg-color: #E2EBFA;\n",
              "      --hover-fill-color: #174EA6;\n",
              "      --disabled-fill-color: #AAA;\n",
              "      --disabled-bg-color: #DDD;\n",
              "  }\n",
              "\n",
              "  [theme=dark] .colab-df-quickchart {\n",
              "      --bg-color: #3B4455;\n",
              "      --fill-color: #D2E3FC;\n",
              "      --hover-bg-color: #434B5C;\n",
              "      --hover-fill-color: #FFFFFF;\n",
              "      --disabled-bg-color: #3B4455;\n",
              "      --disabled-fill-color: #666;\n",
              "  }\n",
              "\n",
              "  .colab-df-quickchart {\n",
              "    background-color: var(--bg-color);\n",
              "    border: none;\n",
              "    border-radius: 50%;\n",
              "    cursor: pointer;\n",
              "    display: none;\n",
              "    fill: var(--fill-color);\n",
              "    height: 32px;\n",
              "    padding: 0;\n",
              "    width: 32px;\n",
              "  }\n",
              "\n",
              "  .colab-df-quickchart:hover {\n",
              "    background-color: var(--hover-bg-color);\n",
              "    box-shadow: 0 1px 2px rgba(60, 64, 67, 0.3), 0 1px 3px 1px rgba(60, 64, 67, 0.15);\n",
              "    fill: var(--button-hover-fill-color);\n",
              "  }\n",
              "\n",
              "  .colab-df-quickchart-complete:disabled,\n",
              "  .colab-df-quickchart-complete:disabled:hover {\n",
              "    background-color: var(--disabled-bg-color);\n",
              "    fill: var(--disabled-fill-color);\n",
              "    box-shadow: none;\n",
              "  }\n",
              "\n",
              "  .colab-df-spinner {\n",
              "    border: 2px solid var(--fill-color);\n",
              "    border-color: transparent;\n",
              "    border-bottom-color: var(--fill-color);\n",
              "    animation:\n",
              "      spin 1s steps(1) infinite;\n",
              "  }\n",
              "\n",
              "  @keyframes spin {\n",
              "    0% {\n",
              "      border-color: transparent;\n",
              "      border-bottom-color: var(--fill-color);\n",
              "      border-left-color: var(--fill-color);\n",
              "    }\n",
              "    20% {\n",
              "      border-color: transparent;\n",
              "      border-left-color: var(--fill-color);\n",
              "      border-top-color: var(--fill-color);\n",
              "    }\n",
              "    30% {\n",
              "      border-color: transparent;\n",
              "      border-left-color: var(--fill-color);\n",
              "      border-top-color: var(--fill-color);\n",
              "      border-right-color: var(--fill-color);\n",
              "    }\n",
              "    40% {\n",
              "      border-color: transparent;\n",
              "      border-right-color: var(--fill-color);\n",
              "      border-top-color: var(--fill-color);\n",
              "    }\n",
              "    60% {\n",
              "      border-color: transparent;\n",
              "      border-right-color: var(--fill-color);\n",
              "    }\n",
              "    80% {\n",
              "      border-color: transparent;\n",
              "      border-right-color: var(--fill-color);\n",
              "      border-bottom-color: var(--fill-color);\n",
              "    }\n",
              "    90% {\n",
              "      border-color: transparent;\n",
              "      border-bottom-color: var(--fill-color);\n",
              "    }\n",
              "  }\n",
              "</style>\n",
              "\n",
              "      <script>\n",
              "        async function quickchart(key) {\n",
              "          const quickchartButtonEl =\n",
              "            document.querySelector('#' + key + ' button');\n",
              "          quickchartButtonEl.disabled = true;  // To prevent multiple clicks.\n",
              "          quickchartButtonEl.classList.add('colab-df-spinner');\n",
              "          try {\n",
              "            const charts = await google.colab.kernel.invokeFunction(\n",
              "                'suggestCharts', [key], {});\n",
              "          } catch (error) {\n",
              "            console.error('Error during call to suggestCharts:', error);\n",
              "          }\n",
              "          quickchartButtonEl.classList.remove('colab-df-spinner');\n",
              "          quickchartButtonEl.classList.add('colab-df-quickchart-complete');\n",
              "        }\n",
              "        (() => {\n",
              "          let quickchartButtonEl =\n",
              "            document.querySelector('#df-9a9bdcd9-9339-4e3a-b8c4-bc97add4eef2 button');\n",
              "          quickchartButtonEl.style.display =\n",
              "            google.colab.kernel.accessAllowed ? 'block' : 'none';\n",
              "        })();\n",
              "      </script>\n",
              "    </div>\n",
              "\n",
              "  <div id=\"id_2d1ba7bf-6676-4b8f-90f8-5acbf8e54267\">\n",
              "    <style>\n",
              "      .colab-df-generate {\n",
              "        background-color: #E8F0FE;\n",
              "        border: none;\n",
              "        border-radius: 50%;\n",
              "        cursor: pointer;\n",
              "        display: none;\n",
              "        fill: #1967D2;\n",
              "        height: 32px;\n",
              "        padding: 0 0 0 0;\n",
              "        width: 32px;\n",
              "      }\n",
              "\n",
              "      .colab-df-generate:hover {\n",
              "        background-color: #E2EBFA;\n",
              "        box-shadow: 0px 1px 2px rgba(60, 64, 67, 0.3), 0px 1px 3px 1px rgba(60, 64, 67, 0.15);\n",
              "        fill: #174EA6;\n",
              "      }\n",
              "\n",
              "      [theme=dark] .colab-df-generate {\n",
              "        background-color: #3B4455;\n",
              "        fill: #D2E3FC;\n",
              "      }\n",
              "\n",
              "      [theme=dark] .colab-df-generate:hover {\n",
              "        background-color: #434B5C;\n",
              "        box-shadow: 0px 1px 3px 1px rgba(0, 0, 0, 0.15);\n",
              "        filter: drop-shadow(0px 1px 2px rgba(0, 0, 0, 0.3));\n",
              "        fill: #FFFFFF;\n",
              "      }\n",
              "    </style>\n",
              "    <button class=\"colab-df-generate\" onclick=\"generateWithVariable('df2020')\"\n",
              "            title=\"Generate code using this dataframe.\"\n",
              "            style=\"display:none;\">\n",
              "\n",
              "  <svg xmlns=\"http://www.w3.org/2000/svg\" height=\"24px\"viewBox=\"0 0 24 24\"\n",
              "       width=\"24px\">\n",
              "    <path d=\"M7,19H8.4L18.45,9,17,7.55,7,17.6ZM5,21V16.75L18.45,3.32a2,2,0,0,1,2.83,0l1.4,1.43a1.91,1.91,0,0,1,.58,1.4,1.91,1.91,0,0,1-.58,1.4L9.25,21ZM18.45,9,17,7.55Zm-12,3A5.31,5.31,0,0,0,4.9,8.1,5.31,5.31,0,0,0,1,6.5,5.31,5.31,0,0,0,4.9,4.9,5.31,5.31,0,0,0,6.5,1,5.31,5.31,0,0,0,8.1,4.9,5.31,5.31,0,0,0,12,6.5,5.46,5.46,0,0,0,6.5,12Z\"/>\n",
              "  </svg>\n",
              "    </button>\n",
              "    <script>\n",
              "      (() => {\n",
              "      const buttonEl =\n",
              "        document.querySelector('#id_2d1ba7bf-6676-4b8f-90f8-5acbf8e54267 button.colab-df-generate');\n",
              "      buttonEl.style.display =\n",
              "        google.colab.kernel.accessAllowed ? 'block' : 'none';\n",
              "\n",
              "      buttonEl.onclick = () => {\n",
              "        google.colab.notebook.generateWithVariable('df2020');\n",
              "      }\n",
              "      })();\n",
              "    </script>\n",
              "  </div>\n",
              "\n",
              "    </div>\n",
              "  </div>\n"
            ],
            "application/vnd.google.colaboratory.intrinsic+json": {
              "type": "dataframe",
              "variable_name": "df2020"
            }
          },
          "metadata": {},
          "execution_count": 4
        }
      ]
    },
    {
      "cell_type": "code",
      "source": [
        "# Drop rows where ALL values are NaN\n",
        "df2020_cleaned = df2020.dropna(how='all')\n",
        "\n",
        "# Check shape before and after\n",
        "print(\"Original DataFrame shape:\", df2020.shape)\n",
        "print(\"Cleaned DataFrame shape:\", df2020_cleaned.shape)"
      ],
      "metadata": {
        "colab": {
          "base_uri": "https://localhost:8080/"
        },
        "id": "_kgW74WeECfP",
        "outputId": "bdb67a08-38a0-4c20-a610-ff6f84c232ce"
      },
      "execution_count": null,
      "outputs": [
        {
          "output_type": "stream",
          "name": "stdout",
          "text": [
            "Original DataFrame shape: (1048574, 22)\n",
            "Cleaned DataFrame shape: (1253, 22)\n"
          ]
        }
      ]
    },
    {
      "cell_type": "code",
      "source": [
        "duplicate_count = df2020_cleaned.duplicated().sum()\n",
        "\n",
        "print(f\"Number of duplicate rows: {duplicate_count}\")"
      ],
      "metadata": {
        "colab": {
          "base_uri": "https://localhost:8080/"
        },
        "id": "YwsWWk8LEGTL",
        "outputId": "4a994f3e-25d3-4c3c-d6b1-5d8c1dce21fc"
      },
      "execution_count": null,
      "outputs": [
        {
          "output_type": "stream",
          "name": "stdout",
          "text": [
            "Number of duplicate rows: 5\n"
          ]
        }
      ]
    },
    {
      "cell_type": "code",
      "source": [
        "df2020_cleaned = df2020_cleaned.drop_duplicates(keep='first')\n",
        "\n",
        "# Reset index if needed\n",
        "df2020_cleaned = df2020_cleaned.reset_index(drop=True)\n",
        "\n",
        "print(\"Duplicates removed. Updated shape:\", df2020_cleaned.shape)"
      ],
      "metadata": {
        "colab": {
          "base_uri": "https://localhost:8080/"
        },
        "id": "cZOUFp7iEbcS",
        "outputId": "867818c0-362a-45e4-ea7c-0f1bed850c1a"
      },
      "execution_count": null,
      "outputs": [
        {
          "output_type": "stream",
          "name": "stdout",
          "text": [
            "Duplicates removed. Updated shape: (1248, 22)\n"
          ]
        }
      ]
    },
    {
      "cell_type": "code",
      "source": [
        "# check again if there is duplicate\n",
        "duplicate_count = df2020_cleaned.duplicated().sum()\n",
        "\n",
        "print(f\"Number of duplicate rows: {duplicate_count}\")"
      ],
      "metadata": {
        "colab": {
          "base_uri": "https://localhost:8080/"
        },
        "id": "iumztj4EEfOB",
        "outputId": "f6d27ca4-8d4a-42a4-d819-d73de13f866e"
      },
      "execution_count": null,
      "outputs": [
        {
          "output_type": "stream",
          "name": "stdout",
          "text": [
            "Number of duplicate rows: 0\n"
          ]
        }
      ]
    },
    {
      "cell_type": "code",
      "source": [
        "df2020_cleaned.info()"
      ],
      "metadata": {
        "colab": {
          "base_uri": "https://localhost:8080/"
        },
        "id": "UafSwWIqEj9g",
        "outputId": "336b71e0-76b4-4048-9373-eeebe2c51dc7"
      },
      "execution_count": null,
      "outputs": [
        {
          "output_type": "stream",
          "name": "stdout",
          "text": [
            "<class 'pandas.core.frame.DataFrame'>\n",
            "RangeIndex: 1248 entries, 0 to 1247\n",
            "Data columns (total 22 columns):\n",
            " #   Column                     Non-Null Count  Dtype  \n",
            "---  ------                     --------------  -----  \n",
            " 0   Timestamp                  1248 non-null   object \n",
            " 1   Age                        1221 non-null   float64\n",
            " 2   Gender                     1238 non-null   object \n",
            " 3   City                       1248 non-null   object \n",
            " 4   Position                   1242 non-null   object \n",
            " 5   Total years of experience  1232 non-null   object \n",
            " 6   Unnamed: 6                 0 non-null      float64\n",
            " 7   Seniority level            1236 non-null   object \n",
            " 8   main technology            1121 non-null   object \n",
            " 9   Unnamed: 9                 0 non-null      float64\n",
            " 10  Yearly salary              1248 non-null   float64\n",
            " 11  Yearly bonus               825 non-null    object \n",
            " 12  Unnamed: 12                0 non-null      float64\n",
            " 13  Unnamed: 13                0 non-null      float64\n",
            " 14  Number of vacation days    1181 non-null   object \n",
            " 15  Employment status          1231 non-null   object \n",
            " 16  Contract duration          1219 non-null   object \n",
            " 17  Main language at work      1232 non-null   object \n",
            " 18  Unnamed: 18                0 non-null      float64\n",
            " 19  Company type               1223 non-null   object \n",
            " 20  Unnamed: 20                0 non-null      float64\n",
            " 21  Company business sector    846 non-null    object \n",
            "dtypes: float64(8), object(14)\n",
            "memory usage: 214.6+ KB\n"
          ]
        }
      ]
    },
    {
      "cell_type": "code",
      "source": [
        "#remove unecessary coulumn\n",
        "df2020_cleaned = df2020_cleaned.loc[:, ~df2020_cleaned.columns.str.contains('^Unnamed')]"
      ],
      "metadata": {
        "id": "bp_UNmEaElwJ"
      },
      "execution_count": null,
      "outputs": []
    },
    {
      "cell_type": "code",
      "source": [
        "# Step 1: Convert Timestamp to datetime\n",
        "df2020_cleaned['Timestamp'] = pd.to_datetime(df2020_cleaned['Timestamp'], errors='coerce')\n",
        "\n",
        "# Step 2: Extract date only and format as DD/MM/YYYY\n",
        "df2020_cleaned['Timestamp'] = df2020_cleaned['Timestamp'].dt.strftime('%m/%d/%Y')"
      ],
      "metadata": {
        "id": "oQLIztpDEpIN"
      },
      "execution_count": null,
      "outputs": []
    },
    {
      "cell_type": "code",
      "source": [
        "# null values in the 'Age' column\n",
        "null_count = df2020_cleaned['Age'].isnull().sum()\n",
        "print(f\"Number of null values in 'Age' column: {null_count}\")"
      ],
      "metadata": {
        "colab": {
          "base_uri": "https://localhost:8080/"
        },
        "id": "tyWgbgSuEr7U",
        "outputId": "e6dd3895-ddcb-499b-db46-c9715a8c9181"
      },
      "execution_count": null,
      "outputs": [
        {
          "output_type": "stream",
          "name": "stdout",
          "text": [
            "Number of null values in 'Age' column: 27\n"
          ]
        }
      ]
    },
    {
      "cell_type": "code",
      "source": [
        "# get average of ages and replace with it nulls\n",
        "import math\n",
        "\n",
        "average_age = df2020_cleaned['Age'].mean()\n",
        "average_age"
      ],
      "metadata": {
        "colab": {
          "base_uri": "https://localhost:8080/"
        },
        "id": "9UkZmWlCEuun",
        "outputId": "96904262-c08d-4abb-9c49-3a96d80f6f3c"
      },
      "execution_count": null,
      "outputs": [
        {
          "output_type": "execute_result",
          "data": {
            "text/plain": [
              "np.float64(32.52579852579853)"
            ]
          },
          "metadata": {},
          "execution_count": 17
        }
      ]
    },
    {
      "cell_type": "code",
      "source": [
        "# Always round up if .5 or more\n",
        "rounded_age = math.ceil(average_age) if (average_age - math.floor(average_age)) >= 0.5 else math.floor(average_age)\n",
        "\n",
        "print(f\"Rounded Average Age: {rounded_age}\")"
      ],
      "metadata": {
        "colab": {
          "base_uri": "https://localhost:8080/"
        },
        "id": "hxfzFFpBE3g0",
        "outputId": "3dcc6fef-230a-4a84-9eda-1783d6bc9079"
      },
      "execution_count": null,
      "outputs": [
        {
          "output_type": "stream",
          "name": "stdout",
          "text": [
            "Rounded Average Age: 33\n"
          ]
        }
      ]
    },
    {
      "cell_type": "code",
      "source": [
        "# Fill nulls in 'Age' column with the average age\n",
        "df2020_cleaned['Age'] = df2020_cleaned['Age'].fillna(rounded_age)\n",
        "\n",
        "# Confirm there are no more nulls\n",
        "null_count = df2020_cleaned['Age'].isnull().sum()\n",
        "print(f\"Number of nulls in 'Age' after filling: {null_count}\")"
      ],
      "metadata": {
        "colab": {
          "base_uri": "https://localhost:8080/"
        },
        "id": "vjYUxYKpE6HN",
        "outputId": "52e3ce2d-d3f0-427d-b26d-8c4198bb1915"
      },
      "execution_count": null,
      "outputs": [
        {
          "output_type": "stream",
          "name": "stdout",
          "text": [
            "Number of nulls in 'Age' after filling: 0\n"
          ]
        }
      ]
    },
    {
      "cell_type": "code",
      "source": [
        "# replace null with others\n",
        "df2020_cleaned['Gender'] = df2020_cleaned['Gender'].fillna('Other')"
      ],
      "metadata": {
        "id": "6BopAh-hE90X"
      },
      "execution_count": null,
      "outputs": []
    },
    {
      "cell_type": "code",
      "source": [
        "# Replace nulls in 'Position ' column with 'Other'\n",
        "df2020_cleaned['Position '] = df2020_cleaned['Position '].fillna('Other')\n",
        "\n",
        "# Confirm no more nulls\n",
        "null_count = df2020_cleaned['Position '].isnull().sum()\n",
        "print(f\"Nulls in 'Position ' after replacement: {null_count}\")"
      ],
      "metadata": {
        "colab": {
          "base_uri": "https://localhost:8080/"
        },
        "id": "jYjcr0fKFBI0",
        "outputId": "0362d504-88aa-4629-ba23-cd90ef478939"
      },
      "execution_count": null,
      "outputs": [
        {
          "output_type": "stream",
          "name": "stdout",
          "text": [
            "Nulls in 'Position ' after replacement: 0\n"
          ]
        }
      ]
    },
    {
      "cell_type": "code",
      "source": [
        "# Calculate average salary\n",
        "avg_salary = df2020_cleaned['Yearly salary '].mean()\n",
        "\n",
        "# Fill nulls in 'Yearly salary' column\n",
        "df2020_cleaned['Yearly salary '] = df2020_cleaned['Yearly salary '].fillna(avg_salary)\n",
        "\n",
        "# Round if needed\n",
        "df2020_cleaned['Yearly salary '] = round(df2020_cleaned['Yearly salary '])\n",
        "\n",
        "# Confirm no more nulls\n",
        "print(\"Nulls in Yearly salary after filling:\", df2020_cleaned['Yearly salary '].isnull().sum())"
      ],
      "metadata": {
        "colab": {
          "base_uri": "https://localhost:8080/"
        },
        "id": "NsitKLUnFECh",
        "outputId": "bbea43e7-1820-4b0a-e8b3-098bea6f1846"
      },
      "execution_count": null,
      "outputs": [
        {
          "output_type": "stream",
          "name": "stdout",
          "text": [
            "Nulls in Yearly salary after filling: 0\n"
          ]
        }
      ]
    },
    {
      "cell_type": "code",
      "source": [
        "# Step 1: Convert 'Total years of experience' to numeric\n",
        "df2020_cleaned['Total years of experience'] = pd.to_numeric(df2020_cleaned['Total years of experience'], errors='coerce')\n",
        "\n",
        "# Step 2: Calculate average (mean) of non-null values\n",
        "avg_experience = df2020_cleaned['Total years of experience'].mean()\n",
        "\n",
        "# Step 3: Round down and convert to integer\n",
        "rounded_avg_exp = math.floor(avg_experience)\n",
        "\n",
        "# Step 4: Fill nulls with rounded-down average\n",
        "df2020_cleaned['Total years of experience'] = df2020_cleaned['Total years of experience'].fillna(rounded_avg_exp)\n",
        "\n",
        "# Optional: Convert entire column to integer type\n",
        "df2020_cleaned['Total years of experience'] = df2020_cleaned['Total years of experience'].astype(int)\n",
        "\n",
        "# Step 5: Print result\n",
        "print(f\"Average years of experience: {avg_experience}\")\n",
        "print(f\"Rounded down value used: {rounded_avg_exp}\")\n",
        "print(\"Nulls after filling:\", df2020_cleaned['Total years of experience'].isnull().sum())"
      ],
      "metadata": {
        "colab": {
          "base_uri": "https://localhost:8080/"
        },
        "id": "YJHT4QaPFGA6",
        "outputId": "b35ee1a7-39ec-4e15-9ae2-adceec9e92fe"
      },
      "execution_count": null,
      "outputs": [
        {
          "output_type": "stream",
          "name": "stdout",
          "text": [
            "Average years of experience: 9.089061224489797\n",
            "Rounded down value used: 9\n",
            "Nulls after filling: 0\n"
          ]
        }
      ]
    },
    {
      "cell_type": "code",
      "source": [
        "# Replace null values in 'Seniority level' column with 'No data'\n",
        "df2020_cleaned['Seniority level'] = df2020_cleaned['Seniority level'].fillna('No data')"
      ],
      "metadata": {
        "id": "b-7Nf1QHFJqm"
      },
      "execution_count": null,
      "outputs": []
    },
    {
      "cell_type": "code",
      "source": [
        "df2020_cleaned['main technology'] = df2020_cleaned['main technology'].fillna('No data')"
      ],
      "metadata": {
        "id": "ZSZvY0QxFOYS"
      },
      "execution_count": null,
      "outputs": []
    },
    {
      "cell_type": "code",
      "source": [
        "df2020_cleaned['Yearly bonus '] = pd.to_numeric(df2020_cleaned['Yearly bonus '], errors='coerce')\n",
        "\n",
        "# Step 2: Calculate average (mean) of non-null values\n",
        "avg_bonus = df2020_cleaned['Yearly bonus '].mean()\n",
        "\n",
        "# Step 3: Fill nulls with the average and round to nearest integer\n",
        "df2020_cleaned['Yearly bonus '] = df2020_cleaned['Yearly bonus '].fillna(round(avg_bonus))\n",
        "\n",
        "# Optional: Print results\n",
        "print(f\"Average Yearly Bonus: {round(avg_bonus)}\")\n",
        "print(\"Nulls after filling:\", df2020_cleaned['Yearly bonus '].isnull().sum())"
      ],
      "metadata": {
        "colab": {
          "base_uri": "https://localhost:8080/"
        },
        "id": "zrx_MggGFRHa",
        "outputId": "0052f5db-af4f-4409-9ad2-50a291c28b44"
      },
      "execution_count": null,
      "outputs": [
        {
          "output_type": "stream",
          "name": "stdout",
          "text": [
            "Average Yearly Bonus: 6126618\n",
            "Nulls after filling: 0\n"
          ]
        }
      ]
    },
    {
      "cell_type": "code",
      "source": [
        "df2020_cleaned['Number of vacation days'] = pd.to_numeric(df2020_cleaned['Number of vacation days'], errors='coerce')\n",
        "\n",
        "# Step 2: Calculate average (mean) of non-null values\n",
        "avg_vacation_days = df2020_cleaned['Number of vacation days'].mean()\n",
        "\n",
        "# Step 3: Fill nulls with the average and round to nearest integer\n",
        "df2020_cleaned['Number of vacation days'] = df2020_cleaned['Number of vacation days'].fillna(round(avg_vacation_days))\n",
        "\n",
        "# Optional: Convert to integer type\n",
        "df2020_cleaned['Number of vacation days'] = df2020_cleaned['Number of vacation days'].astype(int)\n",
        "\n",
        "# Confirm no more nulls\n",
        "null_count = df2020_cleaned['Number of vacation days'].isnull().sum()\n",
        "print(f\"Nulls in 'Number of vacation days' after filling: {null_count}\")\n",
        "print(f\"Average number of vacation days: {round(avg_vacation_days)}\")"
      ],
      "metadata": {
        "colab": {
          "base_uri": "https://localhost:8080/"
        },
        "id": "UQManEDVFUpo",
        "outputId": "0e0cbc18-2bae-432e-abaf-8a8fe12002c3"
      },
      "execution_count": null,
      "outputs": [
        {
          "output_type": "stream",
          "name": "stdout",
          "text": [
            "Nulls in 'Number of vacation days' after filling: 0\n",
            "Average number of vacation days: 28\n"
          ]
        }
      ]
    },
    {
      "cell_type": "code",
      "source": [
        "df2020_cleaned.columns = df2020_cleaned.columns.str.strip()\n",
        "df2020_cleaned['Employment status'] = df2020_cleaned['Employment status'].fillna('No data')"
      ],
      "metadata": {
        "id": "gOKNLyyUFXdK"
      },
      "execution_count": null,
      "outputs": []
    },
    {
      "cell_type": "code",
      "source": [
        "df2020_cleaned.columns = df2020_cleaned.columns.str.strip()\n",
        "df2020_cleaned['Company type'] = df2020_cleaned['Company type'].fillna('No data')"
      ],
      "metadata": {
        "id": "T0wHDvQzFaN5"
      },
      "execution_count": null,
      "outputs": []
    },
    {
      "cell_type": "code",
      "source": [
        "df2020_cleaned.columns = df2020_cleaned.columns.str.strip()\n",
        "df2020_cleaned['Main language at work'] = df2020_cleaned['Main language at work'].fillna('No data')"
      ],
      "metadata": {
        "id": "npNP0mbHFdnN"
      },
      "execution_count": null,
      "outputs": []
    },
    {
      "cell_type": "code",
      "source": [
        "df2020_cleaned.columns = df2020_cleaned.columns.str.strip()\n",
        "df2020_cleaned['Contract duration'] = df2020_cleaned['Contract duration'].fillna('No data')"
      ],
      "metadata": {
        "id": "RG2uaxY7Ff2R"
      },
      "execution_count": null,
      "outputs": []
    },
    {
      "cell_type": "code",
      "source": [
        "df2020_cleaned.columns = df2020_cleaned.columns.str.strip()\n",
        "df2020_cleaned['Contract duration'] = df2020_cleaned['Contract duration'].fillna('No data')"
      ],
      "metadata": {
        "id": "bEABmtwfFheN"
      },
      "execution_count": null,
      "outputs": []
    },
    {
      "cell_type": "code",
      "source": [
        "# Replace null values in 'Company business sector' column with 'Сommerce'\n",
        "df2020_cleaned['Company business sector'] = df2020_cleaned['Company business sector'].fillna('Сommerce')\n",
        "\n",
        "# Confirm there are no more nulls\n",
        "null_count = df2020_cleaned['Company business sector'].isnull().sum()\n",
        "print(f\"Nulls in 'Company business sector' after replacement: {null_count}\")"
      ],
      "metadata": {
        "colab": {
          "base_uri": "https://localhost:8080/"
        },
        "id": "hrdQKE0DFkMd",
        "outputId": "1f61a0f4-4dac-4f5b-e3a0-dc42bbe664e5"
      },
      "execution_count": null,
      "outputs": [
        {
          "output_type": "stream",
          "name": "stdout",
          "text": [
            "Nulls in 'Company business sector' after replacement: 0\n"
          ]
        }
      ]
    },
    {
      "cell_type": "code",
      "source": [
        "df2020_cleaned.info()"
      ],
      "metadata": {
        "colab": {
          "base_uri": "https://localhost:8080/"
        },
        "id": "rJRpROEVFnOR",
        "outputId": "b38e89b9-6fcd-473f-ba47-a0d7b5fd8960"
      },
      "execution_count": null,
      "outputs": [
        {
          "output_type": "stream",
          "name": "stdout",
          "text": [
            "<class 'pandas.core.frame.DataFrame'>\n",
            "RangeIndex: 1248 entries, 0 to 1247\n",
            "Data columns (total 16 columns):\n",
            " #   Column                     Non-Null Count  Dtype  \n",
            "---  ------                     --------------  -----  \n",
            " 0   Timestamp                  1248 non-null   object \n",
            " 1   Age                        1248 non-null   float64\n",
            " 2   Gender                     1248 non-null   object \n",
            " 3   City                       1248 non-null   object \n",
            " 4   Position                   1248 non-null   object \n",
            " 5   Total years of experience  1248 non-null   int64  \n",
            " 6   Seniority level            1248 non-null   object \n",
            " 7   main technology            1248 non-null   object \n",
            " 8   Yearly salary              1248 non-null   float64\n",
            " 9   Yearly bonus               1248 non-null   float64\n",
            " 10  Number of vacation days    1248 non-null   int64  \n",
            " 11  Employment status          1248 non-null   object \n",
            " 12  Contract duration          1248 non-null   object \n",
            " 13  Main language at work      1248 non-null   object \n",
            " 14  Company type               1248 non-null   object \n",
            " 15  Company business sector    1248 non-null   object \n",
            "dtypes: float64(3), int64(2), object(11)\n",
            "memory usage: 156.1+ KB\n"
          ]
        }
      ]
    },
    {
      "cell_type": "code",
      "source": [
        "# Save the cleaned DataFrame to a CSV file\n",
        "df2020_cleaned.to_csv('Employee_2020_Cleaned.csv', index=False)"
      ],
      "metadata": {
        "id": "KyQ8d9riFrZE"
      },
      "execution_count": null,
      "outputs": []
    },
    {
      "cell_type": "code",
      "source": [
        "df2018 = pd.read_csv(\"/content/Employee 2018.csv\")\n",
        "df2018"
      ],
      "metadata": {
        "colab": {
          "base_uri": "https://localhost:8080/",
          "height": 756
        },
        "id": "QGsaAFd7F8O0",
        "outputId": "37cfa57f-092b-4f16-f062-8d80f48ca096"
      },
      "execution_count": null,
      "outputs": [
        {
          "output_type": "execute_result",
          "data": {
            "text/plain": [
              "      Timestamp   Age Gender     City                       Position  \\\n",
              "0    12/14/2018  43.0      M  München                   QA Ingenieur   \n",
              "1    12/14/2018  33.0      F  München  Senior PHP Magento developer    \n",
              "2    12/14/2018  32.0      M  München              Software Engineer   \n",
              "3    12/14/2018  25.0      M  München      Senior Frontend Developer   \n",
              "4    12/14/2018  39.0      M  München                    UX Designer   \n",
              "..          ...   ...    ...      ...                            ...   \n",
              "760    6/3/2020  40.0      M     Köln          Java Developer junior   \n",
              "761   7/28/2020   NaN      M     Köln              E.g. C# Developer   \n",
              "762   7/28/2020   NaN      M     Köln              E.g. C# Developer   \n",
              "763   8/26/2020   NaN    NaN      NaN                            NaN   \n",
              "764   9/21/2020  31.0      F  München                            Pm    \n",
              "\n",
              "     Years of experience Seniority level main technology  Yearly salary   \\\n",
              "0                   11.0          Senior             PHP         77000.0   \n",
              "1                    8.0          Senior          Python         65000.0   \n",
              "2                   10.0          Senior          Kotlin         88000.0   \n",
              "3                    6.0          Senior             PHP         78000.0   \n",
              "4                   10.0          Senior           C/C++         69000.0   \n",
              "..                   ...             ...             ...             ...   \n",
              "760                  1.0          Junior            .NET         44000.0   \n",
              "761                  1.0          Junior          Python         45000.0   \n",
              "762                  1.0          Junior    Not Relevant         45000.0   \n",
              "763                  NaN             NaN               R             NaN   \n",
              "764                 10.0          Senior    Not Relevant        110000.0   \n",
              "\n",
              "     Yearly bonus  Number of vacation days Main language at work  Unnamed: 12  \\\n",
              "0          1000.0                     29.0               Deutsch          NaN   \n",
              "1             NaN                     22.0               Deutsch          NaN   \n",
              "2             NaN                     27.0               Deutsch          NaN   \n",
              "3             NaN                     24.0               English          NaN   \n",
              "4             NaN                     30.0               English          NaN   \n",
              "..            ...                      ...                   ...          ...   \n",
              "760           NaN                     30.0               Deutsch          NaN   \n",
              "761        5500.0                     30.0               Deutsch          NaN   \n",
              "762       10000.0                     26.0               Deutsch          NaN   \n",
              "763           0.0                     25.0                   NaN          NaN   \n",
              "764           NaN                     24.0               English          NaN   \n",
              "\n",
              "      Company type Contract duration           Employment status  Unnamed: 16  \\\n",
              "0          Product         unlimited          Full-time employee          NaN   \n",
              "1          Product         unlimited          Full-time employee          NaN   \n",
              "2          Product         unlimited  Self-employed (freelancer)          NaN   \n",
              "3          Product         unlimited          Full-time employee          NaN   \n",
              "4    Ecom retailer         unlimited          Full-time employee          NaN   \n",
              "..             ...               ...                         ...          ...   \n",
              "760        Product         unlimited          Full-time employee          NaN   \n",
              "761        Product         unlimited          Full-time employee          NaN   \n",
              "762        Product         unlimited          Full-time employee          NaN   \n",
              "763            NaN         unlimited          Full-time employee          NaN   \n",
              "764        Product         unlimited          Full-time employee          NaN   \n",
              "\n",
              "    Company business sector  \n",
              "0                   Tourism  \n",
              "1     Scientific Activities  \n",
              "2                       NaN  \n",
              "3                 Transport  \n",
              "4                Automotive  \n",
              "..                      ...  \n",
              "760               Transport  \n",
              "761               Transport  \n",
              "762                 Tourism  \n",
              "763                Сommerce  \n",
              "764               Transport  \n",
              "\n",
              "[765 rows x 18 columns]"
            ],
            "text/html": [
              "\n",
              "  <div id=\"df-d260a937-f4d7-4b7a-99a8-33f900258fd2\" class=\"colab-df-container\">\n",
              "    <div>\n",
              "<style scoped>\n",
              "    .dataframe tbody tr th:only-of-type {\n",
              "        vertical-align: middle;\n",
              "    }\n",
              "\n",
              "    .dataframe tbody tr th {\n",
              "        vertical-align: top;\n",
              "    }\n",
              "\n",
              "    .dataframe thead th {\n",
              "        text-align: right;\n",
              "    }\n",
              "</style>\n",
              "<table border=\"1\" class=\"dataframe\">\n",
              "  <thead>\n",
              "    <tr style=\"text-align: right;\">\n",
              "      <th></th>\n",
              "      <th>Timestamp</th>\n",
              "      <th>Age</th>\n",
              "      <th>Gender</th>\n",
              "      <th>City</th>\n",
              "      <th>Position</th>\n",
              "      <th>Years of experience</th>\n",
              "      <th>Seniority level</th>\n",
              "      <th>main technology</th>\n",
              "      <th>Yearly salary</th>\n",
              "      <th>Yearly bonus</th>\n",
              "      <th>Number of vacation days</th>\n",
              "      <th>Main language at work</th>\n",
              "      <th>Unnamed: 12</th>\n",
              "      <th>Company type</th>\n",
              "      <th>Contract duration</th>\n",
              "      <th>Employment status</th>\n",
              "      <th>Unnamed: 16</th>\n",
              "      <th>Company business sector</th>\n",
              "    </tr>\n",
              "  </thead>\n",
              "  <tbody>\n",
              "    <tr>\n",
              "      <th>0</th>\n",
              "      <td>12/14/2018</td>\n",
              "      <td>43.0</td>\n",
              "      <td>M</td>\n",
              "      <td>München</td>\n",
              "      <td>QA Ingenieur</td>\n",
              "      <td>11.0</td>\n",
              "      <td>Senior</td>\n",
              "      <td>PHP</td>\n",
              "      <td>77000.0</td>\n",
              "      <td>1000.0</td>\n",
              "      <td>29.0</td>\n",
              "      <td>Deutsch</td>\n",
              "      <td>NaN</td>\n",
              "      <td>Product</td>\n",
              "      <td>unlimited</td>\n",
              "      <td>Full-time employee</td>\n",
              "      <td>NaN</td>\n",
              "      <td>Tourism</td>\n",
              "    </tr>\n",
              "    <tr>\n",
              "      <th>1</th>\n",
              "      <td>12/14/2018</td>\n",
              "      <td>33.0</td>\n",
              "      <td>F</td>\n",
              "      <td>München</td>\n",
              "      <td>Senior PHP Magento developer</td>\n",
              "      <td>8.0</td>\n",
              "      <td>Senior</td>\n",
              "      <td>Python</td>\n",
              "      <td>65000.0</td>\n",
              "      <td>NaN</td>\n",
              "      <td>22.0</td>\n",
              "      <td>Deutsch</td>\n",
              "      <td>NaN</td>\n",
              "      <td>Product</td>\n",
              "      <td>unlimited</td>\n",
              "      <td>Full-time employee</td>\n",
              "      <td>NaN</td>\n",
              "      <td>Scientific Activities</td>\n",
              "    </tr>\n",
              "    <tr>\n",
              "      <th>2</th>\n",
              "      <td>12/14/2018</td>\n",
              "      <td>32.0</td>\n",
              "      <td>M</td>\n",
              "      <td>München</td>\n",
              "      <td>Software Engineer</td>\n",
              "      <td>10.0</td>\n",
              "      <td>Senior</td>\n",
              "      <td>Kotlin</td>\n",
              "      <td>88000.0</td>\n",
              "      <td>NaN</td>\n",
              "      <td>27.0</td>\n",
              "      <td>Deutsch</td>\n",
              "      <td>NaN</td>\n",
              "      <td>Product</td>\n",
              "      <td>unlimited</td>\n",
              "      <td>Self-employed (freelancer)</td>\n",
              "      <td>NaN</td>\n",
              "      <td>NaN</td>\n",
              "    </tr>\n",
              "    <tr>\n",
              "      <th>3</th>\n",
              "      <td>12/14/2018</td>\n",
              "      <td>25.0</td>\n",
              "      <td>M</td>\n",
              "      <td>München</td>\n",
              "      <td>Senior Frontend Developer</td>\n",
              "      <td>6.0</td>\n",
              "      <td>Senior</td>\n",
              "      <td>PHP</td>\n",
              "      <td>78000.0</td>\n",
              "      <td>NaN</td>\n",
              "      <td>24.0</td>\n",
              "      <td>English</td>\n",
              "      <td>NaN</td>\n",
              "      <td>Product</td>\n",
              "      <td>unlimited</td>\n",
              "      <td>Full-time employee</td>\n",
              "      <td>NaN</td>\n",
              "      <td>Transport</td>\n",
              "    </tr>\n",
              "    <tr>\n",
              "      <th>4</th>\n",
              "      <td>12/14/2018</td>\n",
              "      <td>39.0</td>\n",
              "      <td>M</td>\n",
              "      <td>München</td>\n",
              "      <td>UX Designer</td>\n",
              "      <td>10.0</td>\n",
              "      <td>Senior</td>\n",
              "      <td>C/C++</td>\n",
              "      <td>69000.0</td>\n",
              "      <td>NaN</td>\n",
              "      <td>30.0</td>\n",
              "      <td>English</td>\n",
              "      <td>NaN</td>\n",
              "      <td>Ecom retailer</td>\n",
              "      <td>unlimited</td>\n",
              "      <td>Full-time employee</td>\n",
              "      <td>NaN</td>\n",
              "      <td>Automotive</td>\n",
              "    </tr>\n",
              "    <tr>\n",
              "      <th>...</th>\n",
              "      <td>...</td>\n",
              "      <td>...</td>\n",
              "      <td>...</td>\n",
              "      <td>...</td>\n",
              "      <td>...</td>\n",
              "      <td>...</td>\n",
              "      <td>...</td>\n",
              "      <td>...</td>\n",
              "      <td>...</td>\n",
              "      <td>...</td>\n",
              "      <td>...</td>\n",
              "      <td>...</td>\n",
              "      <td>...</td>\n",
              "      <td>...</td>\n",
              "      <td>...</td>\n",
              "      <td>...</td>\n",
              "      <td>...</td>\n",
              "      <td>...</td>\n",
              "    </tr>\n",
              "    <tr>\n",
              "      <th>760</th>\n",
              "      <td>6/3/2020</td>\n",
              "      <td>40.0</td>\n",
              "      <td>M</td>\n",
              "      <td>Köln</td>\n",
              "      <td>Java Developer junior</td>\n",
              "      <td>1.0</td>\n",
              "      <td>Junior</td>\n",
              "      <td>.NET</td>\n",
              "      <td>44000.0</td>\n",
              "      <td>NaN</td>\n",
              "      <td>30.0</td>\n",
              "      <td>Deutsch</td>\n",
              "      <td>NaN</td>\n",
              "      <td>Product</td>\n",
              "      <td>unlimited</td>\n",
              "      <td>Full-time employee</td>\n",
              "      <td>NaN</td>\n",
              "      <td>Transport</td>\n",
              "    </tr>\n",
              "    <tr>\n",
              "      <th>761</th>\n",
              "      <td>7/28/2020</td>\n",
              "      <td>NaN</td>\n",
              "      <td>M</td>\n",
              "      <td>Köln</td>\n",
              "      <td>E.g. C# Developer</td>\n",
              "      <td>1.0</td>\n",
              "      <td>Junior</td>\n",
              "      <td>Python</td>\n",
              "      <td>45000.0</td>\n",
              "      <td>5500.0</td>\n",
              "      <td>30.0</td>\n",
              "      <td>Deutsch</td>\n",
              "      <td>NaN</td>\n",
              "      <td>Product</td>\n",
              "      <td>unlimited</td>\n",
              "      <td>Full-time employee</td>\n",
              "      <td>NaN</td>\n",
              "      <td>Transport</td>\n",
              "    </tr>\n",
              "    <tr>\n",
              "      <th>762</th>\n",
              "      <td>7/28/2020</td>\n",
              "      <td>NaN</td>\n",
              "      <td>M</td>\n",
              "      <td>Köln</td>\n",
              "      <td>E.g. C# Developer</td>\n",
              "      <td>1.0</td>\n",
              "      <td>Junior</td>\n",
              "      <td>Not Relevant</td>\n",
              "      <td>45000.0</td>\n",
              "      <td>10000.0</td>\n",
              "      <td>26.0</td>\n",
              "      <td>Deutsch</td>\n",
              "      <td>NaN</td>\n",
              "      <td>Product</td>\n",
              "      <td>unlimited</td>\n",
              "      <td>Full-time employee</td>\n",
              "      <td>NaN</td>\n",
              "      <td>Tourism</td>\n",
              "    </tr>\n",
              "    <tr>\n",
              "      <th>763</th>\n",
              "      <td>8/26/2020</td>\n",
              "      <td>NaN</td>\n",
              "      <td>NaN</td>\n",
              "      <td>NaN</td>\n",
              "      <td>NaN</td>\n",
              "      <td>NaN</td>\n",
              "      <td>NaN</td>\n",
              "      <td>R</td>\n",
              "      <td>NaN</td>\n",
              "      <td>0.0</td>\n",
              "      <td>25.0</td>\n",
              "      <td>NaN</td>\n",
              "      <td>NaN</td>\n",
              "      <td>NaN</td>\n",
              "      <td>unlimited</td>\n",
              "      <td>Full-time employee</td>\n",
              "      <td>NaN</td>\n",
              "      <td>Сommerce</td>\n",
              "    </tr>\n",
              "    <tr>\n",
              "      <th>764</th>\n",
              "      <td>9/21/2020</td>\n",
              "      <td>31.0</td>\n",
              "      <td>F</td>\n",
              "      <td>München</td>\n",
              "      <td>Pm</td>\n",
              "      <td>10.0</td>\n",
              "      <td>Senior</td>\n",
              "      <td>Not Relevant</td>\n",
              "      <td>110000.0</td>\n",
              "      <td>NaN</td>\n",
              "      <td>24.0</td>\n",
              "      <td>English</td>\n",
              "      <td>NaN</td>\n",
              "      <td>Product</td>\n",
              "      <td>unlimited</td>\n",
              "      <td>Full-time employee</td>\n",
              "      <td>NaN</td>\n",
              "      <td>Transport</td>\n",
              "    </tr>\n",
              "  </tbody>\n",
              "</table>\n",
              "<p>765 rows × 18 columns</p>\n",
              "</div>\n",
              "    <div class=\"colab-df-buttons\">\n",
              "\n",
              "  <div class=\"colab-df-container\">\n",
              "    <button class=\"colab-df-convert\" onclick=\"convertToInteractive('df-d260a937-f4d7-4b7a-99a8-33f900258fd2')\"\n",
              "            title=\"Convert this dataframe to an interactive table.\"\n",
              "            style=\"display:none;\">\n",
              "\n",
              "  <svg xmlns=\"http://www.w3.org/2000/svg\" height=\"24px\" viewBox=\"0 -960 960 960\">\n",
              "    <path d=\"M120-120v-720h720v720H120Zm60-500h600v-160H180v160Zm220 220h160v-160H400v160Zm0 220h160v-160H400v160ZM180-400h160v-160H180v160Zm440 0h160v-160H620v160ZM180-180h160v-160H180v160Zm440 0h160v-160H620v160Z\"/>\n",
              "  </svg>\n",
              "    </button>\n",
              "\n",
              "  <style>\n",
              "    .colab-df-container {\n",
              "      display:flex;\n",
              "      gap: 12px;\n",
              "    }\n",
              "\n",
              "    .colab-df-convert {\n",
              "      background-color: #E8F0FE;\n",
              "      border: none;\n",
              "      border-radius: 50%;\n",
              "      cursor: pointer;\n",
              "      display: none;\n",
              "      fill: #1967D2;\n",
              "      height: 32px;\n",
              "      padding: 0 0 0 0;\n",
              "      width: 32px;\n",
              "    }\n",
              "\n",
              "    .colab-df-convert:hover {\n",
              "      background-color: #E2EBFA;\n",
              "      box-shadow: 0px 1px 2px rgba(60, 64, 67, 0.3), 0px 1px 3px 1px rgba(60, 64, 67, 0.15);\n",
              "      fill: #174EA6;\n",
              "    }\n",
              "\n",
              "    .colab-df-buttons div {\n",
              "      margin-bottom: 4px;\n",
              "    }\n",
              "\n",
              "    [theme=dark] .colab-df-convert {\n",
              "      background-color: #3B4455;\n",
              "      fill: #D2E3FC;\n",
              "    }\n",
              "\n",
              "    [theme=dark] .colab-df-convert:hover {\n",
              "      background-color: #434B5C;\n",
              "      box-shadow: 0px 1px 3px 1px rgba(0, 0, 0, 0.15);\n",
              "      filter: drop-shadow(0px 1px 2px rgba(0, 0, 0, 0.3));\n",
              "      fill: #FFFFFF;\n",
              "    }\n",
              "  </style>\n",
              "\n",
              "    <script>\n",
              "      const buttonEl =\n",
              "        document.querySelector('#df-d260a937-f4d7-4b7a-99a8-33f900258fd2 button.colab-df-convert');\n",
              "      buttonEl.style.display =\n",
              "        google.colab.kernel.accessAllowed ? 'block' : 'none';\n",
              "\n",
              "      async function convertToInteractive(key) {\n",
              "        const element = document.querySelector('#df-d260a937-f4d7-4b7a-99a8-33f900258fd2');\n",
              "        const dataTable =\n",
              "          await google.colab.kernel.invokeFunction('convertToInteractive',\n",
              "                                                    [key], {});\n",
              "        if (!dataTable) return;\n",
              "\n",
              "        const docLinkHtml = 'Like what you see? Visit the ' +\n",
              "          '<a target=\"_blank\" href=https://colab.research.google.com/notebooks/data_table.ipynb>data table notebook</a>'\n",
              "          + ' to learn more about interactive tables.';\n",
              "        element.innerHTML = '';\n",
              "        dataTable['output_type'] = 'display_data';\n",
              "        await google.colab.output.renderOutput(dataTable, element);\n",
              "        const docLink = document.createElement('div');\n",
              "        docLink.innerHTML = docLinkHtml;\n",
              "        element.appendChild(docLink);\n",
              "      }\n",
              "    </script>\n",
              "  </div>\n",
              "\n",
              "\n",
              "    <div id=\"df-6f9f8a06-51f2-4f4d-9ba6-9ddc9f03118a\">\n",
              "      <button class=\"colab-df-quickchart\" onclick=\"quickchart('df-6f9f8a06-51f2-4f4d-9ba6-9ddc9f03118a')\"\n",
              "                title=\"Suggest charts\"\n",
              "                style=\"display:none;\">\n",
              "\n",
              "<svg xmlns=\"http://www.w3.org/2000/svg\" height=\"24px\"viewBox=\"0 0 24 24\"\n",
              "     width=\"24px\">\n",
              "    <g>\n",
              "        <path d=\"M19 3H5c-1.1 0-2 .9-2 2v14c0 1.1.9 2 2 2h14c1.1 0 2-.9 2-2V5c0-1.1-.9-2-2-2zM9 17H7v-7h2v7zm4 0h-2V7h2v10zm4 0h-2v-4h2v4z\"/>\n",
              "    </g>\n",
              "</svg>\n",
              "      </button>\n",
              "\n",
              "<style>\n",
              "  .colab-df-quickchart {\n",
              "      --bg-color: #E8F0FE;\n",
              "      --fill-color: #1967D2;\n",
              "      --hover-bg-color: #E2EBFA;\n",
              "      --hover-fill-color: #174EA6;\n",
              "      --disabled-fill-color: #AAA;\n",
              "      --disabled-bg-color: #DDD;\n",
              "  }\n",
              "\n",
              "  [theme=dark] .colab-df-quickchart {\n",
              "      --bg-color: #3B4455;\n",
              "      --fill-color: #D2E3FC;\n",
              "      --hover-bg-color: #434B5C;\n",
              "      --hover-fill-color: #FFFFFF;\n",
              "      --disabled-bg-color: #3B4455;\n",
              "      --disabled-fill-color: #666;\n",
              "  }\n",
              "\n",
              "  .colab-df-quickchart {\n",
              "    background-color: var(--bg-color);\n",
              "    border: none;\n",
              "    border-radius: 50%;\n",
              "    cursor: pointer;\n",
              "    display: none;\n",
              "    fill: var(--fill-color);\n",
              "    height: 32px;\n",
              "    padding: 0;\n",
              "    width: 32px;\n",
              "  }\n",
              "\n",
              "  .colab-df-quickchart:hover {\n",
              "    background-color: var(--hover-bg-color);\n",
              "    box-shadow: 0 1px 2px rgba(60, 64, 67, 0.3), 0 1px 3px 1px rgba(60, 64, 67, 0.15);\n",
              "    fill: var(--button-hover-fill-color);\n",
              "  }\n",
              "\n",
              "  .colab-df-quickchart-complete:disabled,\n",
              "  .colab-df-quickchart-complete:disabled:hover {\n",
              "    background-color: var(--disabled-bg-color);\n",
              "    fill: var(--disabled-fill-color);\n",
              "    box-shadow: none;\n",
              "  }\n",
              "\n",
              "  .colab-df-spinner {\n",
              "    border: 2px solid var(--fill-color);\n",
              "    border-color: transparent;\n",
              "    border-bottom-color: var(--fill-color);\n",
              "    animation:\n",
              "      spin 1s steps(1) infinite;\n",
              "  }\n",
              "\n",
              "  @keyframes spin {\n",
              "    0% {\n",
              "      border-color: transparent;\n",
              "      border-bottom-color: var(--fill-color);\n",
              "      border-left-color: var(--fill-color);\n",
              "    }\n",
              "    20% {\n",
              "      border-color: transparent;\n",
              "      border-left-color: var(--fill-color);\n",
              "      border-top-color: var(--fill-color);\n",
              "    }\n",
              "    30% {\n",
              "      border-color: transparent;\n",
              "      border-left-color: var(--fill-color);\n",
              "      border-top-color: var(--fill-color);\n",
              "      border-right-color: var(--fill-color);\n",
              "    }\n",
              "    40% {\n",
              "      border-color: transparent;\n",
              "      border-right-color: var(--fill-color);\n",
              "      border-top-color: var(--fill-color);\n",
              "    }\n",
              "    60% {\n",
              "      border-color: transparent;\n",
              "      border-right-color: var(--fill-color);\n",
              "    }\n",
              "    80% {\n",
              "      border-color: transparent;\n",
              "      border-right-color: var(--fill-color);\n",
              "      border-bottom-color: var(--fill-color);\n",
              "    }\n",
              "    90% {\n",
              "      border-color: transparent;\n",
              "      border-bottom-color: var(--fill-color);\n",
              "    }\n",
              "  }\n",
              "</style>\n",
              "\n",
              "      <script>\n",
              "        async function quickchart(key) {\n",
              "          const quickchartButtonEl =\n",
              "            document.querySelector('#' + key + ' button');\n",
              "          quickchartButtonEl.disabled = true;  // To prevent multiple clicks.\n",
              "          quickchartButtonEl.classList.add('colab-df-spinner');\n",
              "          try {\n",
              "            const charts = await google.colab.kernel.invokeFunction(\n",
              "                'suggestCharts', [key], {});\n",
              "          } catch (error) {\n",
              "            console.error('Error during call to suggestCharts:', error);\n",
              "          }\n",
              "          quickchartButtonEl.classList.remove('colab-df-spinner');\n",
              "          quickchartButtonEl.classList.add('colab-df-quickchart-complete');\n",
              "        }\n",
              "        (() => {\n",
              "          let quickchartButtonEl =\n",
              "            document.querySelector('#df-6f9f8a06-51f2-4f4d-9ba6-9ddc9f03118a button');\n",
              "          quickchartButtonEl.style.display =\n",
              "            google.colab.kernel.accessAllowed ? 'block' : 'none';\n",
              "        })();\n",
              "      </script>\n",
              "    </div>\n",
              "\n",
              "  <div id=\"id_a2560291-36f8-4300-bf9f-a66ee7e696d8\">\n",
              "    <style>\n",
              "      .colab-df-generate {\n",
              "        background-color: #E8F0FE;\n",
              "        border: none;\n",
              "        border-radius: 50%;\n",
              "        cursor: pointer;\n",
              "        display: none;\n",
              "        fill: #1967D2;\n",
              "        height: 32px;\n",
              "        padding: 0 0 0 0;\n",
              "        width: 32px;\n",
              "      }\n",
              "\n",
              "      .colab-df-generate:hover {\n",
              "        background-color: #E2EBFA;\n",
              "        box-shadow: 0px 1px 2px rgba(60, 64, 67, 0.3), 0px 1px 3px 1px rgba(60, 64, 67, 0.15);\n",
              "        fill: #174EA6;\n",
              "      }\n",
              "\n",
              "      [theme=dark] .colab-df-generate {\n",
              "        background-color: #3B4455;\n",
              "        fill: #D2E3FC;\n",
              "      }\n",
              "\n",
              "      [theme=dark] .colab-df-generate:hover {\n",
              "        background-color: #434B5C;\n",
              "        box-shadow: 0px 1px 3px 1px rgba(0, 0, 0, 0.15);\n",
              "        filter: drop-shadow(0px 1px 2px rgba(0, 0, 0, 0.3));\n",
              "        fill: #FFFFFF;\n",
              "      }\n",
              "    </style>\n",
              "    <button class=\"colab-df-generate\" onclick=\"generateWithVariable('df2018')\"\n",
              "            title=\"Generate code using this dataframe.\"\n",
              "            style=\"display:none;\">\n",
              "\n",
              "  <svg xmlns=\"http://www.w3.org/2000/svg\" height=\"24px\"viewBox=\"0 0 24 24\"\n",
              "       width=\"24px\">\n",
              "    <path d=\"M7,19H8.4L18.45,9,17,7.55,7,17.6ZM5,21V16.75L18.45,3.32a2,2,0,0,1,2.83,0l1.4,1.43a1.91,1.91,0,0,1,.58,1.4,1.91,1.91,0,0,1-.58,1.4L9.25,21ZM18.45,9,17,7.55Zm-12,3A5.31,5.31,0,0,0,4.9,8.1,5.31,5.31,0,0,0,1,6.5,5.31,5.31,0,0,0,4.9,4.9,5.31,5.31,0,0,0,6.5,1,5.31,5.31,0,0,0,8.1,4.9,5.31,5.31,0,0,0,12,6.5,5.46,5.46,0,0,0,6.5,12Z\"/>\n",
              "  </svg>\n",
              "    </button>\n",
              "    <script>\n",
              "      (() => {\n",
              "      const buttonEl =\n",
              "        document.querySelector('#id_a2560291-36f8-4300-bf9f-a66ee7e696d8 button.colab-df-generate');\n",
              "      buttonEl.style.display =\n",
              "        google.colab.kernel.accessAllowed ? 'block' : 'none';\n",
              "\n",
              "      buttonEl.onclick = () => {\n",
              "        google.colab.notebook.generateWithVariable('df2018');\n",
              "      }\n",
              "      })();\n",
              "    </script>\n",
              "  </div>\n",
              "\n",
              "    </div>\n",
              "  </div>\n"
            ],
            "application/vnd.google.colaboratory.intrinsic+json": {
              "type": "dataframe",
              "variable_name": "df2018",
              "summary": "{\n  \"name\": \"df2018\",\n  \"rows\": 765,\n  \"fields\": [\n    {\n      \"column\": \"Timestamp\",\n      \"properties\": {\n        \"dtype\": \"object\",\n        \"num_unique_values\": 63,\n        \"samples\": [\n          \"8/26/2020\",\n          \"3/11/2020\",\n          \"12/14/2018\"\n        ],\n        \"semantic_type\": \"\",\n        \"description\": \"\"\n      }\n    },\n    {\n      \"column\": \"Age\",\n      \"properties\": {\n        \"dtype\": \"number\",\n        \"std\": 5.107267637691871,\n        \"min\": 21.0,\n        \"max\": 60.0,\n        \"num_unique_values\": 33,\n        \"samples\": [\n          46.0,\n          35.0,\n          21.0\n        ],\n        \"semantic_type\": \"\",\n        \"description\": \"\"\n      }\n    },\n    {\n      \"column\": \"Gender\",\n      \"properties\": {\n        \"dtype\": \"category\",\n        \"num_unique_values\": 2,\n        \"samples\": [\n          \"F\",\n          \"M\"\n        ],\n        \"semantic_type\": \"\",\n        \"description\": \"\"\n      }\n    },\n    {\n      \"column\": \"City\",\n      \"properties\": {\n        \"dtype\": \"category\",\n        \"num_unique_values\": 74,\n        \"samples\": [\n          \"Augsburg \",\n          \"Koblenz\"\n        ],\n        \"semantic_type\": \"\",\n        \"description\": \"\"\n      }\n    },\n    {\n      \"column\": \"Position\",\n      \"properties\": {\n        \"dtype\": \"string\",\n        \"num_unique_values\": 397,\n        \"samples\": [\n          \"Database Administrator\",\n          \"Senior Software engineer\"\n        ],\n        \"semantic_type\": \"\",\n        \"description\": \"\"\n      }\n    },\n    {\n      \"column\": \"Years of experience\",\n      \"properties\": {\n        \"dtype\": \"number\",\n        \"std\": 4.729557255070927,\n        \"min\": 0.0,\n        \"max\": 38.0,\n        \"num_unique_values\": 30,\n        \"samples\": [\n          38.0,\n          7.0\n        ],\n        \"semantic_type\": \"\",\n        \"description\": \"\"\n      }\n    },\n    {\n      \"column\": \"Seniority level\",\n      \"properties\": {\n        \"dtype\": \"category\",\n        \"num_unique_values\": 3,\n        \"samples\": [\n          \"Senior\",\n          \"Middle\"\n        ],\n        \"semantic_type\": \"\",\n        \"description\": \"\"\n      }\n    },\n    {\n      \"column\": \"main technology\",\n      \"properties\": {\n        \"dtype\": \"category\",\n        \"num_unique_values\": 33,\n        \"samples\": [\n          \"Cobol\",\n          \"Yaml\"\n        ],\n        \"semantic_type\": \"\",\n        \"description\": \"\"\n      }\n    },\n    {\n      \"column\": \"Yearly salary \",\n      \"properties\": {\n        \"dtype\": \"number\",\n        \"std\": 21196.30655727135,\n        \"min\": 10300.0,\n        \"max\": 200000.0,\n        \"num_unique_values\": 139,\n        \"samples\": [\n          80400.0,\n          125000.0\n        ],\n        \"semantic_type\": \"\",\n        \"description\": \"\"\n      }\n    },\n    {\n      \"column\": \"Yearly bonus\",\n      \"properties\": {\n        \"dtype\": \"number\",\n        \"std\": 10900.551595703928,\n        \"min\": 0.0,\n        \"max\": 80000.0,\n        \"num_unique_values\": 79,\n        \"samples\": [\n          55000.0,\n          1000.0\n        ],\n        \"semantic_type\": \"\",\n        \"description\": \"\"\n      }\n    },\n    {\n      \"column\": \"Number of vacation days\",\n      \"properties\": {\n        \"dtype\": \"number\",\n        \"std\": 4.715279287003349,\n        \"min\": 4.0,\n        \"max\": 100.0,\n        \"num_unique_values\": 28,\n        \"samples\": [\n          20.0,\n          75.0\n        ],\n        \"semantic_type\": \"\",\n        \"description\": \"\"\n      }\n    },\n    {\n      \"column\": \"Main language at work\",\n      \"properties\": {\n        \"dtype\": \"category\",\n        \"num_unique_values\": 7,\n        \"samples\": [\n          \"Deutsch\",\n          \"English\"\n        ],\n        \"semantic_type\": \"\",\n        \"description\": \"\"\n      }\n    },\n    {\n      \"column\": \"Unnamed: 12\",\n      \"properties\": {\n        \"dtype\": \"number\",\n        \"std\": null,\n        \"min\": null,\n        \"max\": null,\n        \"num_unique_values\": 0,\n        \"samples\": [],\n        \"semantic_type\": \"\",\n        \"description\": \"\"\n      }\n    },\n    {\n      \"column\": \"Company type\",\n      \"properties\": {\n        \"dtype\": \"category\",\n        \"num_unique_values\": 49,\n        \"samples\": [],\n        \"semantic_type\": \"\",\n        \"description\": \"\"\n      }\n    },\n    {\n      \"column\": \"Contract duration\",\n      \"properties\": {\n        \"dtype\": \"category\",\n        \"num_unique_values\": 6,\n        \"samples\": [],\n        \"semantic_type\": \"\",\n        \"description\": \"\"\n      }\n    },\n    {\n      \"column\": \"Employment status\",\n      \"properties\": {\n        \"dtype\": \"category\",\n        \"num_unique_values\": 6,\n        \"samples\": [],\n        \"semantic_type\": \"\",\n        \"description\": \"\"\n      }\n    },\n    {\n      \"column\": \"Unnamed: 16\",\n      \"properties\": {\n        \"dtype\": \"number\",\n        \"std\": null,\n        \"min\": null,\n        \"max\": null,\n        \"num_unique_values\": 0,\n        \"samples\": [],\n        \"semantic_type\": \"\",\n        \"description\": \"\"\n      }\n    },\n    {\n      \"column\": \"Company business sector\",\n      \"properties\": {\n        \"dtype\": \"category\",\n        \"num_unique_values\": 39,\n        \"samples\": [],\n        \"semantic_type\": \"\",\n        \"description\": \"\"\n      }\n    }\n  ]\n}"
            }
          },
          "metadata": {},
          "execution_count": 38
        }
      ]
    },
    {
      "cell_type": "code",
      "source": [
        "df2018.info()"
      ],
      "metadata": {
        "colab": {
          "base_uri": "https://localhost:8080/"
        },
        "id": "dKNfRhkOGUqB",
        "outputId": "12170c47-e2f7-40ec-c3f0-970b4769474a"
      },
      "execution_count": null,
      "outputs": [
        {
          "output_type": "stream",
          "name": "stdout",
          "text": [
            "<class 'pandas.core.frame.DataFrame'>\n",
            "RangeIndex: 765 entries, 0 to 764\n",
            "Data columns (total 18 columns):\n",
            " #   Column                   Non-Null Count  Dtype  \n",
            "---  ------                   --------------  -----  \n",
            " 0   Timestamp                765 non-null    object \n",
            " 1   Age                      672 non-null    float64\n",
            " 2   Gender                   751 non-null    object \n",
            " 3   City                     736 non-null    object \n",
            " 4   Position                 737 non-null    object \n",
            " 5   Years of experience      732 non-null    float64\n",
            " 6   Seniority level          743 non-null    object \n",
            " 7   main technology          753 non-null    object \n",
            " 8   Yearly salary            750 non-null    float64\n",
            " 9   Yearly bonus             392 non-null    float64\n",
            " 10  Number of vacation days  720 non-null    float64\n",
            " 11  Main language at work    750 non-null    object \n",
            " 12  Unnamed: 12              0 non-null      float64\n",
            " 13  Company type             730 non-null    object \n",
            " 14  Contract duration        737 non-null    object \n",
            " 15  Employment status        758 non-null    object \n",
            " 16  Unnamed: 16              0 non-null      float64\n",
            " 17  Company business sector  649 non-null    object \n",
            "dtypes: float64(7), object(11)\n",
            "memory usage: 107.7+ KB\n"
          ]
        }
      ]
    },
    {
      "cell_type": "code",
      "source": [
        "# Drop rows where ALL values are NaN\n",
        "df2018_cleaned = df2018.dropna(how='all')"
      ],
      "metadata": {
        "id": "cz-B67tWGZM9"
      },
      "execution_count": null,
      "outputs": []
    },
    {
      "cell_type": "code",
      "source": [
        "duplicate_count = df2018_cleaned.duplicated().sum()"
      ],
      "metadata": {
        "id": "ymBom4yOGa-d"
      },
      "execution_count": null,
      "outputs": []
    },
    {
      "cell_type": "code",
      "source": [
        "df2018_cleaned = df2018_cleaned.loc[:, ~df2018_cleaned.columns.str.contains('^Unnamed')]"
      ],
      "metadata": {
        "id": "-LiX2UNyGdGN"
      },
      "execution_count": null,
      "outputs": []
    },
    {
      "cell_type": "code",
      "source": [
        "# Step 1: Convert Timestamp to datetime\n",
        "df2018_cleaned['Timestamp'] = pd.to_datetime(df2018_cleaned['Timestamp'], errors='coerce')\n",
        "\n",
        "# Step 2: Extract date only and format as DD/MM/YYYY\n",
        "df2018_cleaned['Timestamp'] = df2018_cleaned['Timestamp'].dt.strftime('%m/%d/%Y')"
      ],
      "metadata": {
        "id": "t35GJpcxGekq"
      },
      "execution_count": null,
      "outputs": []
    },
    {
      "cell_type": "code",
      "source": [
        "# get average of ages and replace with it nulls\n",
        "\n",
        "\n",
        "average_age2018 = df2018_cleaned['Age'].mean()\n",
        "\n",
        "average_age"
      ],
      "metadata": {
        "colab": {
          "base_uri": "https://localhost:8080/"
        },
        "id": "7z1iuJyCGgZB",
        "outputId": "0d57e129-b831-4914-9d3a-8fd35dcedda4"
      },
      "execution_count": null,
      "outputs": [
        {
          "output_type": "execute_result",
          "data": {
            "text/plain": [
              "np.float64(32.52579852579853)"
            ]
          },
          "metadata": {},
          "execution_count": 44
        }
      ]
    },
    {
      "cell_type": "code",
      "source": [
        "# Always round up if .5 or more\n",
        "rounded_age = math.ceil(average_age2018) if (average_age2018 - math.floor(average_age2018)) >= 0.5 else math.floor(average_age2018)\n",
        "\n",
        "print(f\"Rounded Average Age: {rounded_age}\")"
      ],
      "metadata": {
        "colab": {
          "base_uri": "https://localhost:8080/"
        },
        "id": "mTw0drSWGh91",
        "outputId": "834832d1-919b-4925-8dfd-e23af06750e9"
      },
      "execution_count": null,
      "outputs": [
        {
          "output_type": "stream",
          "name": "stdout",
          "text": [
            "Rounded Average Age: 32\n"
          ]
        }
      ]
    },
    {
      "cell_type": "code",
      "source": [
        "# Fill nulls in 'Age' column with the average age\n",
        "df2018_cleaned['Age'] = df2018_cleaned['Age'].fillna(rounded_age)\n",
        "\n",
        "# Confirm there are no more nulls\n",
        "null_count = df2018_cleaned['Age'].isnull().sum()\n",
        "print(f\"Number of nulls in 'Age' after filling: {null_count}\")"
      ],
      "metadata": {
        "colab": {
          "base_uri": "https://localhost:8080/"
        },
        "id": "zurWA5TJGjQh",
        "outputId": "021a04e4-39a1-44d6-fa78-fcf6bc13ee9b"
      },
      "execution_count": null,
      "outputs": [
        {
          "output_type": "stream",
          "name": "stdout",
          "text": [
            "Number of nulls in 'Age' after filling: 0\n"
          ]
        }
      ]
    },
    {
      "cell_type": "code",
      "source": [
        "df2018_cleaned['Gender'] = df2018_cleaned['Gender'].fillna('Other')"
      ],
      "metadata": {
        "id": "-VD4AXALGlRo"
      },
      "execution_count": null,
      "outputs": []
    },
    {
      "cell_type": "code",
      "source": [
        "df2018_cleaned['Position'] = df2018_cleaned['Position'].fillna('Other')"
      ],
      "metadata": {
        "id": "rmu2gBOOGn3f"
      },
      "execution_count": null,
      "outputs": []
    },
    {
      "cell_type": "code",
      "source": [
        "df2018_cleaned['Seniority level'] = df2018_cleaned['Seniority level'].fillna('No data')"
      ],
      "metadata": {
        "id": "ocJTqN0uJp-4"
      },
      "execution_count": null,
      "outputs": []
    },
    {
      "cell_type": "code",
      "source": [
        "df2018_cleaned['main technology'] = df2018_cleaned['main technology'].fillna('No data')"
      ],
      "metadata": {
        "id": "0J4qvyOWJr0W"
      },
      "execution_count": null,
      "outputs": []
    },
    {
      "cell_type": "code",
      "source": [
        "df2018_cleaned['City'] = df2018_cleaned['City'].fillna('No data')"
      ],
      "metadata": {
        "id": "n6Gdv8e0Jtfm"
      },
      "execution_count": null,
      "outputs": []
    },
    {
      "cell_type": "code",
      "source": [
        "# Replace 'MÃ¼nchen' with 'München' in the 'City' column\n",
        "df2018_cleaned['City'] = df2018_cleaned['City'].replace('MÃ¼nchen', 'München')\n",
        "\n",
        "# Optional: Check unique values to confirm replacement\n",
        "print(df2020['City'].unique())"
      ],
      "metadata": {
        "colab": {
          "base_uri": "https://localhost:8080/"
        },
        "id": "0EqMxjLVJv3J",
        "outputId": "cd024df9-3634-4431-e1de-ce6141e218a1"
      },
      "execution_count": null,
      "outputs": [
        {
          "output_type": "stream",
          "name": "stdout",
          "text": [
            "['Munich' 'Berlin' 'Hamburg' 'Wolfsburg' 'Stuttgart' 'Schleswig-Holstein'\n",
            " 'London' 'Konstanz area' 'Frankfurt' 'Cologne' 'Kempten' 'Münster'\n",
            " 'Erlangen' 'Vienna' 'Moldova' 'Rosenheim' 'Mannheim ' 'Boeblingen'\n",
            " 'Düsseldorf' 'Ingolstadt' 'Nürnberg' 'Ansbach' 'Leipzig' 'Mannheim'\n",
            " 'Tuttlingen' 'Bonn' 'Moscow' 'Koblenz' 'Warsaw' 'Heidelberg' 'Karlsruhe'\n",
            " 'Köln' 'Aachen' 'Karlsruhe ' 'Samara' 'Riga, Latvia' 'Dusseldorf'\n",
            " 'Zurich' 'Helsinki' 'Würzburg' 'Kiev' 'Den Haag' 'Amsterdam' 'Cracovia'\n",
            " 'Tallinn' 'Prague' 'Utrecht' 'Stockholm' 'Braunschweig ' 'Dresden' 'Kyiv'\n",
            " 'Stuttgart ' 'Malta' 'Lübeck' 'Nuremberg ' 'Bodensee' 'Milan' 'Salzburg'\n",
            " 'Rome' 'Wroclaw' 'Cupertino' 'Paris' 'Dublin ' 'Paderborn' 'Konstanz'\n",
            " 'Ulm' 'Düsseldorf ' 'Barcelona' 'Bölingen' 'Tampere (Finland)' 'Hannover'\n",
            " 'Bucharest' 'Siegen' 'Minsk' 'Nuremberg' 'Marseille' 'Friedrichshafen'\n",
            " 'Walldorf' 'Eindhoven' 'France' 'Regensburg' 'Warsaw, Poland' 'Heilbronn'\n",
            " 'Dortmund' 'Jena' 'City in Russia' 'Cracow' 'Brunswick' 'Dublin' 'Madrid'\n",
            " 'Lisbon' 'Sofia' 'Luttich' 'Milano' 'Bielefeld' 'Basel' 'NJ, USA'\n",
            " 'Istanbul' 'warsaw' 'Hildesheim' 'Heidelberg ' 'Murnau am Staffelsee '\n",
            " 'Zürich' 'Innsbruck' 'Brussels ' 'Hildesheim ' 'Prefer not to say'\n",
            " 'Dusseldurf' 'Fr' 'Darmstadt' 'Duesseldorf' 'Cambridge' 'Brussels'\n",
            " 'Copenhagen' 'Sevilla' 'Krakow' 'Ingolstadt ' 'Saint-Petersburg'\n",
            " 'Saarbrücken' nan]\n"
          ]
        }
      ]
    },
    {
      "cell_type": "code",
      "source": [
        "# Calculate average salary\n",
        "avg_salary = df2018_cleaned['Yearly salary '].mean()\n",
        "\n",
        "# Fill nulls in 'Yearly salary' column\n",
        "df2018_cleaned['Yearly salary '] = df2018_cleaned['Yearly salary '].fillna(avg_salary)\n",
        "\n",
        "# Round if needed\n",
        "df2018_cleaned['Yearly salary '] = round(df2018_cleaned['Yearly salary '])\n",
        "\n",
        "# Confirm no more nulls\n",
        "print(\"Nulls in Yearly salary after filling:\", df2018_cleaned['Yearly salary '].isnull().sum())"
      ],
      "metadata": {
        "colab": {
          "base_uri": "https://localhost:8080/"
        },
        "id": "rSbQvO2JJ2bA",
        "outputId": "3ca2bbca-c9c7-43a6-d7e1-d8be7f3c061d"
      },
      "execution_count": null,
      "outputs": [
        {
          "output_type": "stream",
          "name": "stdout",
          "text": [
            "Nulls in Yearly salary after filling: 0\n"
          ]
        }
      ]
    },
    {
      "cell_type": "code",
      "source": [
        "# prompt: i want to change name of column that is called Years of experience with Total years of experience\n",
        "\n",
        "df2018_cleaned = df2018_cleaned.rename(columns={'Years of experience': 'Total years of experience'})"
      ],
      "metadata": {
        "id": "NtV1qy4EJ8l7"
      },
      "execution_count": null,
      "outputs": []
    },
    {
      "cell_type": "code",
      "source": [
        "# Step 1: Convert 'Total years of experience' to numeric\n",
        "df2018_cleaned['Total years of experience'] = pd.to_numeric(df2018_cleaned['Total years of experience'], errors='coerce')\n",
        "\n",
        "# Step 2: Calculate average (mean) of non-null values\n",
        "avg_experience = df2018_cleaned['Total years of experience'].mean()\n",
        "\n",
        "# Step 3: Round down and convert to integer\n",
        "rounded_avg_exp = math.floor(avg_experience)\n",
        "\n",
        "# Step 4: Fill nulls with rounded-down average\n",
        "df2018_cleaned['Total years of experience'] = df2018_cleaned['Total years of experience'].fillna(rounded_avg_exp)\n",
        "\n",
        "# Optional: Convert entire column to integer type\n",
        "df2018_cleaned['Total years of experience'] = df2018_cleaned['Total years of experience'].astype(int)"
      ],
      "metadata": {
        "id": "rTD9Hj2LJ-kQ"
      },
      "execution_count": null,
      "outputs": []
    },
    {
      "cell_type": "code",
      "source": [
        "df2018_cleaned['Seniority level'] = df2018_cleaned['Seniority level'].fillna('No data')"
      ],
      "metadata": {
        "id": "OHr-SRSxKCKu"
      },
      "execution_count": null,
      "outputs": []
    },
    {
      "cell_type": "code",
      "source": [
        "df2018_cleaned['main technology'] = df2018_cleaned['main technology'].fillna('No data')"
      ],
      "metadata": {
        "id": "0dElU1FSKF7-"
      },
      "execution_count": null,
      "outputs": []
    },
    {
      "cell_type": "code",
      "source": [
        "# Step 1: Convert 'Yearly bonus' to numeric, coerce errors to NaN\n",
        "df2018_cleaned['Yearly bonus'] = pd.to_numeric(df2018_cleaned['Yearly bonus'], errors='coerce')\n",
        "\n",
        "# Step 2: Calculate average (mean) of non-null values\n",
        "avg_bonus = df2018_cleaned['Yearly bonus'].mean()\n",
        "\n",
        "# Step 3: Fill nulls with the average and round to nearest integer\n",
        "df2018_cleaned['Yearly bonus'] = df2018_cleaned['Yearly bonus'].fillna(round(avg_bonus))"
      ],
      "metadata": {
        "id": "R5QzPIzpKH8J"
      },
      "execution_count": null,
      "outputs": []
    },
    {
      "cell_type": "code",
      "source": [
        "# Step 1: Convert column to numeric, coerce errors to NaN\n",
        "df2018_cleaned['Number of vacation days'] = pd.to_numeric(df2018_cleaned['Number of vacation days'], errors='coerce')\n",
        "\n",
        "# Step 2: Calculate average (mean) of non-null values\n",
        "avg_vacation_days = df2018_cleaned['Number of vacation days'].mean()\n",
        "\n",
        "# Step 3: Fill nulls with the average and round to nearest integer\n",
        "df2018_cleaned['Number of vacation days'] = df2018_cleaned['Number of vacation days'].fillna(round(avg_vacation_days))\n",
        "\n",
        "# Optional: Convert to integer type\n",
        "df2018_cleaned['Number of vacation days'] = df2018_cleaned['Number of vacation days'].astype(int)"
      ],
      "metadata": {
        "id": "60l3eoOmKUDf"
      },
      "execution_count": null,
      "outputs": []
    },
    {
      "cell_type": "code",
      "source": [
        "df2018_cleaned.columns = df2018_cleaned.columns.str.strip()\n",
        "df2018_cleaned['Employment status'] = df2018_cleaned['Employment status'].fillna('No data')"
      ],
      "metadata": {
        "id": "8WZQW29xKWGV"
      },
      "execution_count": null,
      "outputs": []
    },
    {
      "cell_type": "code",
      "source": [
        "df2018_cleaned.columns = df2018_cleaned.columns.str.strip()\n",
        "df2018_cleaned['Contract duration'] = df2018_cleaned['Contract duration'].fillna('No data')"
      ],
      "metadata": {
        "id": "MnYzs0wcKYlb"
      },
      "execution_count": null,
      "outputs": []
    },
    {
      "cell_type": "code",
      "source": [
        "df2018_cleaned.columns = df2018_cleaned.columns.str.strip()\n",
        "df2018_cleaned['Main language at work'] = df2018_cleaned['Main language at work'].fillna('No data')"
      ],
      "metadata": {
        "id": "3YNEUNnvKc66"
      },
      "execution_count": null,
      "outputs": []
    },
    {
      "cell_type": "code",
      "source": [
        "df2018_cleaned.columns = df2018_cleaned.columns.str.strip()\n",
        "df2018_cleaned['Company type'] = df2018_cleaned['Company type'].fillna('No data')"
      ],
      "metadata": {
        "id": "JctDE4ssKfsU"
      },
      "execution_count": null,
      "outputs": []
    },
    {
      "cell_type": "code",
      "source": [
        "df2018_cleaned['Company business sector'] = df2018_cleaned['Company business sector'].fillna('Сommerce')"
      ],
      "metadata": {
        "id": "QAn-IGmsKh8K"
      },
      "execution_count": null,
      "outputs": []
    },
    {
      "cell_type": "code",
      "source": [
        "df2018_cleaned.info()"
      ],
      "metadata": {
        "colab": {
          "base_uri": "https://localhost:8080/"
        },
        "id": "pBDyS44wKkTA",
        "outputId": "facae121-a451-4b02-faeb-67558b518bdc"
      },
      "execution_count": null,
      "outputs": [
        {
          "output_type": "stream",
          "name": "stdout",
          "text": [
            "<class 'pandas.core.frame.DataFrame'>\n",
            "RangeIndex: 765 entries, 0 to 764\n",
            "Data columns (total 16 columns):\n",
            " #   Column                     Non-Null Count  Dtype  \n",
            "---  ------                     --------------  -----  \n",
            " 0   Timestamp                  765 non-null    object \n",
            " 1   Age                        765 non-null    float64\n",
            " 2   Gender                     765 non-null    object \n",
            " 3   City                       765 non-null    object \n",
            " 4   Position                   765 non-null    object \n",
            " 5   Total years of experience  765 non-null    int64  \n",
            " 6   Seniority level            765 non-null    object \n",
            " 7   main technology            765 non-null    object \n",
            " 8   Yearly salary              765 non-null    float64\n",
            " 9   Yearly bonus               765 non-null    float64\n",
            " 10  Number of vacation days    765 non-null    int64  \n",
            " 11  Main language at work      765 non-null    object \n",
            " 12  Company type               765 non-null    object \n",
            " 13  Contract duration          765 non-null    object \n",
            " 14  Employment status          765 non-null    object \n",
            " 15  Company business sector    765 non-null    object \n",
            "dtypes: float64(3), int64(2), object(11)\n",
            "memory usage: 95.8+ KB\n"
          ]
        }
      ]
    },
    {
      "cell_type": "code",
      "source": [
        "df2018_cleaned.to_csv('Employee_2018_Cleaned.csv', index=False)"
      ],
      "metadata": {
        "id": "MLsWQA5FKlws"
      },
      "execution_count": null,
      "outputs": []
    },
    {
      "cell_type": "code",
      "source": [
        "file1 = '/content/Employee_2018_Cleaned.csv'   # Replace with your first file path\n",
        "file2 = '/content/Employee_2020_Cleaned.csv'   # Replace with your second file path\n",
        "output_file = 'Combined_2018_2020.csv'\n",
        "\n",
        "# Step 2: Read both CSV files\n",
        "df1 = pd.read_csv(file1, on_bad_lines='skip', encoding='latin1')\n",
        "df2 = pd.read_csv(file2, on_bad_lines='skip', encoding='latin1')\n",
        "\n",
        "# Step 3: Concatenate (append) the two DataFrames\n",
        "combined_df = pd.concat([df1, df2], ignore_index=True)\n",
        "\n",
        "# Step 4: Save the merged DataFrame to a new CSV file\n",
        "combined_df.to_csv(output_file, index=False)\n",
        "\n",
        "print(\"✅ Files merged successfully!\")\n",
        "print(f\"Saved as: {output_file}\")"
      ],
      "metadata": {
        "colab": {
          "base_uri": "https://localhost:8080/"
        },
        "id": "oqpBypaSKtlM",
        "outputId": "d25967f8-3cb0-47fc-f4ad-f9155850d3bc"
      },
      "execution_count": null,
      "outputs": [
        {
          "output_type": "stream",
          "name": "stdout",
          "text": [
            "✅ Files merged successfully!\n",
            "Saved as: Combined_2018_2020.csv\n"
          ]
        }
      ]
    }
  ]
}